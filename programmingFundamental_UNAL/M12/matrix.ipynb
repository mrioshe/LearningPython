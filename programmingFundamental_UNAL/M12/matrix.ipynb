{
 "cells": [
  {
   "cell_type": "code",
   "execution_count": 1,
   "metadata": {},
   "outputs": [
    {
     "name": "stdout",
     "output_type": "stream",
     "text": [
      "['m', 'i', 'e', 'n', 't', 'r', 'a', 's', ' ', 's', 'u', 'f', 'r', 'i', 'a', ' ', 'd', 'e', ' ', 's', 'a', 'r', 'a', 'm', 'p', 'i', 'o', 'n', ' ', 'a', 's', 'a', 'b', 'a', ' ', 'n', 'u', 'e', 'c', 'e', 's', ' ', 'e', 'n', ' ', 'e', 'l', ' ', 'm', 'a', 'g', 'o', 's', 't', 'o', '.', '\\n']\n",
      "['c', 'r', 'e', 'o', ' ', 'q', 'u', 'e', ' ', 'n', 'o', 's', ' ', 'q', 'u', 'e', 'd', 'a', 'm', 'o', 's', ' ', 'c', 'i', 'e', 'g', 'o', 's', ',', ' ', 'c', 'i', 'e', 'g', 'o', 's', ' ', 'q', 'u', 'e', ',', ' ', 'v', 'i', 'e', 'n', 'd', 'o', ',', ' ', 'n', 'o', ' ', 'v', 'e', 'n', '.', '\\n']\n",
      "['v', 'i', 'n', 'i', 'e', 'r', 'o', 'n', ' ', 's', 'a', 'r', 'a', 'y', ' ', 'y', ' ', 'm', 'a', 'r', 'g', 'o', 't', ',', ' ', 'j', 'u', 'n', 't', 'o', ' ', 'a', ' ', 's', 'a', 'n', 't', 'i', 'a', 'g', 'o', ',', ' ', 'r', 'a', 'm', 'i', 'r', 'o', ' ', 'y', ' ', 'a', 'g', 'u', 's', 't', 'i', 'n', 'i', 'a', 'n', 'o', '.', '\\n']\n",
      "['s', 'a', 's', 'a', 's', 'a', ',', ' ', 'r', 'a', 'r', 'a', 'r', 'a', ',', ' ', 'm', 'a', 'm', 'a', 'm', 'a', ',', ' ', 'g', 'o', 'g', 'o', 'g', 'o', '.']\n"
     ]
    },
    {
     "data": {
      "text/plain": [
       "<function TextIOWrapper.close()>"
      ]
     },
     "execution_count": 1,
     "metadata": {},
     "output_type": "execute_result"
    }
   ],
   "source": [
    "a=open('cameos.txt','r')\n",
    "lista=[]\n",
    "for renglones in a:\n",
    "    for letras in renglones:\n",
    "        lista.append(letras.lower())\n",
    "    print(lista)\n",
    "    lista=[]\n",
    "\n",
    "a.close"
   ]
  },
  {
   "cell_type": "code",
   "execution_count": 2,
   "metadata": {},
   "outputs": [],
   "source": [
    "s='Smith'"
   ]
  },
  {
   "cell_type": "code",
   "execution_count": 3,
   "metadata": {},
   "outputs": [
    {
     "data": {
      "text/plain": [
       "'Smith'"
      ]
     },
     "execution_count": 3,
     "metadata": {},
     "output_type": "execute_result"
    }
   ],
   "source": [
    "s[0:5]"
   ]
  },
  {
   "cell_type": "code",
   "execution_count": 4,
   "metadata": {},
   "outputs": [],
   "source": [
    "l=[]"
   ]
  },
  {
   "cell_type": "code",
   "execution_count": 5,
   "metadata": {},
   "outputs": [
    {
     "data": {
      "text/plain": [
       "0"
      ]
     },
     "execution_count": 5,
     "metadata": {},
     "output_type": "execute_result"
    }
   ],
   "source": [
    "len(l)"
   ]
  },
  {
   "cell_type": "code",
   "execution_count": null,
   "metadata": {},
   "outputs": [],
   "source": [
    "def guardar(l):\n",
    "    l3=[]\n",
    "    for i in range(len(l)):\n",
    "        l2=[]\n",
    "        if l[i]=='?':\n",
    "            for k in range(i:len(l))\n",
    "                l2.append(l[k])\n",
    "                if l[k]=='?':\n",
    "                    l3.append(l2)\n",
    "                    break\n",
    "        #else:\n",
    "    return(l3)"
   ]
  },
  {
   "cell_type": "code",
   "execution_count": null,
   "metadata": {},
   "outputs": [],
   "source": [
    "def guardar(l):\n",
    "    l3=[]\n",
    "    for i in range(len(l)):\n",
    "        l2=[]\n",
    "        if l[i]=='?':\n",
    "            for k in range(i:len(l))\n",
    "                l2.append(l[k])\n",
    "                if l[k]=='?':\n",
    "                    l3.append(l2)\n",
    "                    break\n",
    "        #else:\n",
    "    return(l3)\n",
    "\n",
    "a=open('cameos.txt','r')\n",
    "lista2=[]\n",
    "\n",
    "for renglones in a:\n",
    "    for letras in renglones:\n",
    "        lista.append(letras.lower())\n",
    "        a=guardar(lista)\n",
    "        if len(a)!=0:\n",
    "            for j in range(len(a)):\n",
    "                string=''\n",
    "                for v in range(len(a[j])):\n",
    "                    string += a[j][v]\n",
    "                lista2.append(string)\n",
    "for g in range(len(lista2)):\n",
    "    print(lista2[g])\n",
    "\n",
    "a.close"
   ]
  },
  {
   "cell_type": "code",
   "execution_count": 18,
   "metadata": {},
   "outputs": [],
   "source": [
    "b=renglones.replace('?','_?_').split('?')"
   ]
  },
  {
   "cell_type": "code",
   "execution_count": 17,
   "metadata": {},
   "outputs": [],
   "source": [
    "renglones='?asdasda? ?asdasdasd? ?asdasdasd? asdasdasdasd ?adsadws? asdasdasd'"
   ]
  },
  {
   "cell_type": "code",
   "execution_count": 19,
   "metadata": {},
   "outputs": [
    {
     "data": {
      "text/plain": [
       "['_',\n",
       " '_asdasda_',\n",
       " '_ _',\n",
       " '_asdasdasd_',\n",
       " '_ _',\n",
       " '_asdasdasd_',\n",
       " '_ asdasdasdasd _',\n",
       " '_adsadws_',\n",
       " '_ asdasdasd']"
      ]
     },
     "execution_count": 19,
     "metadata": {},
     "output_type": "execute_result"
    }
   ],
   "source": [
    "b"
   ]
  },
  {
   "cell_type": "code",
   "execution_count": 23,
   "metadata": {},
   "outputs": [
    {
     "ename": "TypeError",
     "evalue": "'float' object cannot be interpreted as an integer",
     "output_type": "error",
     "traceback": [
      "\u001b[1;31m---------------------------------------------------------------------------\u001b[0m",
      "\u001b[1;31mTypeError\u001b[0m                                 Traceback (most recent call last)",
      "\u001b[1;32m<ipython-input-23-aa4d3f80aac0>\u001b[0m in \u001b[0;36m<module>\u001b[1;34m\u001b[0m\n\u001b[1;32m----> 1\u001b[1;33m \u001b[0ml\u001b[0m\u001b[1;33m=\u001b[0m\u001b[0mlist\u001b[0m\u001b[1;33m(\u001b[0m\u001b[0mrange\u001b[0m\u001b[1;33m(\u001b[0m\u001b[1;36m0.0\u001b[0m\u001b[1;33m,\u001b[0m\u001b[1;36m0.5\u001b[0m\u001b[1;33m,\u001b[0m\u001b[1;36m5\u001b[0m\u001b[1;33m)\u001b[0m\u001b[1;33m)\u001b[0m\u001b[1;33m\u001b[0m\u001b[1;33m\u001b[0m\u001b[0m\n\u001b[0m",
      "\u001b[1;31mTypeError\u001b[0m: 'float' object cannot be interpreted as an integer"
     ]
    }
   ],
   "source": [
    "l=list(range(0.0,0.5,5))"
   ]
  },
  {
   "cell_type": "code",
   "execution_count": 26,
   "metadata": {},
   "outputs": [
    {
     "ename": "TypeError",
     "evalue": "'float' object cannot be interpreted as an integer",
     "output_type": "error",
     "traceback": [
      "\u001b[1;31m---------------------------------------------------------------------------\u001b[0m",
      "\u001b[1;31mTypeError\u001b[0m                                 Traceback (most recent call last)",
      "\u001b[1;32m<ipython-input-26-247b29866819>\u001b[0m in \u001b[0;36m<module>\u001b[1;34m\u001b[0m\n\u001b[1;32m----> 1\u001b[1;33m \u001b[0mlist\u001b[0m\u001b[1;33m(\u001b[0m\u001b[0mrange\u001b[0m\u001b[1;33m(\u001b[0m\u001b[1;36m0\u001b[0m\u001b[1;33m,\u001b[0m\u001b[1;36m5\u001b[0m\u001b[1;33m,\u001b[0m\u001b[1;36m0.1\u001b[0m\u001b[1;33m)\u001b[0m\u001b[1;33m)\u001b[0m\u001b[1;33m\u001b[0m\u001b[1;33m\u001b[0m\u001b[0m\n\u001b[0m",
      "\u001b[1;31mTypeError\u001b[0m: 'float' object cannot be interpreted as an integer"
     ]
    }
   ],
   "source": [
    "list(range(0,5,0.1))"
   ]
  },
  {
   "cell_type": "code",
   "execution_count": 82,
   "metadata": {},
   "outputs": [
    {
     "name": "stdout",
     "output_type": "stream",
     "text": [
      "?Por que, sr. Anderson?\n",
      "?Por que lo hace?\n",
      "?Por que?\n",
      "?Por que se levanta?\n",
      "?Por que sigue luchando?\n",
      "?De verdad cree que lucha por algo ademas de por su propia supervivencia?\n",
      "?Querria decirme que es, si es que acaso lo sabe?\n",
      "?Es por la libertad?\n",
      "?Por la verdad?\n",
      "?Tal vez por la paz?\n",
      "?Quizas por el amor?\n",
      "?Sabe cual es?\n"
     ]
    },
    {
     "data": {
      "text/plain": [
       "<function TextIOWrapper.close()>"
      ]
     },
     "execution_count": 82,
     "metadata": {},
     "output_type": "execute_result"
    }
   ],
   "source": [
    "a=open('matrix.txt','r')\n",
    "lista=[]\n",
    "\n",
    "for renglones in a:\n",
    "    if renglones[0:6]=='Smith:':\n",
    "        b=renglones.replace('?','_?_').split('?')\n",
    "        for j in range(1,len(b),2):\n",
    "            if b[j] not in lista:\n",
    "                lista.append(b[j])\n",
    "\n",
    "for g in range(len(lista)):\n",
    "    print('?'+lista[g][1:-1]+'?')\n",
    "\n",
    "\n",
    "a.close"
   ]
  },
  {
   "cell_type": "code",
   "execution_count": 33,
   "metadata": {},
   "outputs": [
    {
     "data": {
      "text/plain": [
       "['_Por que, sr. Anderson_',\n",
       " '_Por que lo hace_',\n",
       " '_Querria decirme que es, si es que acaso lo sabe_']"
      ]
     },
     "execution_count": 33,
     "metadata": {},
     "output_type": "execute_result"
    }
   ],
   "source": [
    "lista"
   ]
  },
  {
   "cell_type": "code",
   "execution_count": 34,
   "metadata": {},
   "outputs": [
    {
     "data": {
      "text/plain": [
       "['Smith: Un virus. Los humanos sois una enfermedad sois el cancer de\\n']"
      ]
     },
     "execution_count": 34,
     "metadata": {},
     "output_type": "execute_result"
    }
   ],
   "source": [
    "b"
   ]
  },
  {
   "cell_type": "code",
   "execution_count": 65,
   "metadata": {},
   "outputs": [],
   "source": [
    "l1='Smith:?Querria decirme que es, si es que acaso lo sabe? ?Es por la libertad? ?Por la verdad? ?Tal vez por la paz? ?Quizas por el amor? Ilusiones, sr Anderson, desvarios de la percepcion, concepciones temporales de un fragil'"
   ]
  },
  {
   "cell_type": "code",
   "execution_count": 77,
   "metadata": {},
   "outputs": [],
   "source": [
    "ll2=[]  \n",
    "if l1[0:6]=='Smith:':\n",
    "    b=l1.replace('?','_?_').split('?')\n",
    "    for i in range(len(b)):\n",
    "        b[i].replace('_','?')\n",
    "    for j in range(1,len(b),2):\n",
    "        if b[j] not in ll2:\n",
    "            ll2.append(b[j])"
   ]
  },
  {
   "cell_type": "code",
   "execution_count": 78,
   "metadata": {},
   "outputs": [
    {
     "data": {
      "text/plain": [
       "['_Querria decirme que es, si es que acaso lo sabe_',\n",
       " '_Es por la libertad_',\n",
       " '_Por la verdad_',\n",
       " '_Tal vez por la paz_',\n",
       " '_Quizas por el amor_']"
      ]
     },
     "execution_count": 78,
     "metadata": {},
     "output_type": "execute_result"
    }
   ],
   "source": [
    "ll2"
   ]
  },
  {
   "cell_type": "code",
   "execution_count": 73,
   "metadata": {},
   "outputs": [
    {
     "data": {
      "text/plain": [
       "['Smith:_',\n",
       " '_Querria decirme que es, si es que acaso lo sabe_',\n",
       " '_ _',\n",
       " '_Es por la libertad_',\n",
       " '_ _',\n",
       " '_Por la verdad_',\n",
       " '_ _',\n",
       " '_Tal vez por la paz_',\n",
       " '_ _',\n",
       " '_Quizas por el amor_',\n",
       " '_ Ilusiones, sr Anderson, desvarios de la percepcion, concepciones temporales de un fragil']"
      ]
     },
     "execution_count": 73,
     "metadata": {},
     "output_type": "execute_result"
    }
   ],
   "source": [
    "b"
   ]
  },
  {
   "cell_type": "code",
   "execution_count": null,
   "metadata": {},
   "outputs": [],
   "source": []
  }
 ],
 "metadata": {
  "kernelspec": {
   "display_name": "Python 3",
   "language": "python",
   "name": "python3"
  },
  "language_info": {
   "codemirror_mode": {
    "name": "ipython",
    "version": 3
   },
   "file_extension": ".py",
   "mimetype": "text/x-python",
   "name": "python",
   "nbconvert_exporter": "python",
   "pygments_lexer": "ipython3",
   "version": "3.7.4"
  }
 },
 "nbformat": 4,
 "nbformat_minor": 2
}
