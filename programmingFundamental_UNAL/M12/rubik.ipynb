{
 "cells": [
  {
   "cell_type": "code",
   "execution_count": 50,
   "metadata": {},
   "outputs": [
    {
     "name": "stdout",
     "output_type": "stream",
     "text": [
      "3\n",
      "2\n",
      "F1-\n",
      "21\n",
      "12\n",
      "3\n",
      "S\n",
      "123\n",
      "123\n",
      "123\n",
      "2\n",
      "3\n",
      "12\n",
      "12\n"
     ]
    }
   ],
   "source": [
    "C=int(input())\n",
    "for i in range(C):\n",
    "    l_asistente=[]\n",
    "    l=[]\n",
    "    l1=[]\n",
    "    N=int(input())\n",
    "    for j in range(N):\n",
    "        l.append(j+1)\n",
    "    for m in range(N):\n",
    "        l1.append(l.copy())\n",
    "    instruc=(input()).split()\n",
    "    for j in range(len(instruc)):\n",
    "        if instruc[j][0]=='F':\n",
    "            if instruc[j][2]=='+':\n",
    "                f_asistente= l1[int(instruc[j][1])-1][-1]\n",
    "                for n in range(N-1,0,-1):\n",
    "                    l1[int(instruc[j][1])-1][n]=l1[int(instruc[j][1])-1][n-1]  \n",
    "                l1[int(instruc[j][1])-1][0]=f_asistente\n",
    "            else:\n",
    "                f_asistente= l1[int(instruc[j][1])-1][0]\n",
    "                for n in range(N-1):\n",
    "                    l1[int(instruc[j][1])-1][n]=l1[int(instruc[j][1])-1][n+1]\n",
    "                l1[int(instruc[j][1])-1][-1]=f_asistente\n",
    "        elif instruc[j][0]=='C':\n",
    "            if instruc[j][2]=='+':\n",
    "                c_asistente= l1[-1][int(instruc[j][1])-1]\n",
    "                for n in range(N-1,0,-1):\n",
    "                    l1[n][int(instruc[j][1])-1]=l1.copy()[n-1][int(instruc[j][1])-1]  \n",
    "                l1[0][int(instruc[j][1])-1]=c_asistente\n",
    "            else:\n",
    "                c_asistente= l1[0][int(instruc[j][1])-1]\n",
    "                for n in range(N-1):\n",
    "                    l1[n][int(instruc[j][1])-1]=l1.copy()[n+1][int(instruc[j][1])-1]\n",
    "                l1[-1][int(instruc[j][1])-1]=c_asistente\n",
    "    for v in range(N):\n",
    "        for x in range(N):\n",
    "            print(l1[v][x], end='')\n",
    "        print('\\r')\n",
    "    print('\\n')\n",
    "                \n",
    "            \n",
    "    \n",
    "        "
   ]
  },
  {
   "cell_type": "code",
   "execution_count": 27,
   "metadata": {},
   "outputs": [
    {
     "data": {
      "text/plain": [
       "['F3+', 'C2+', 'F1+']"
      ]
     },
     "execution_count": 27,
     "metadata": {},
     "output_type": "execute_result"
    }
   ],
   "source": [
    "instruc"
   ]
  },
  {
   "cell_type": "code",
   "execution_count": 28,
   "metadata": {},
   "outputs": [
    {
     "data": {
      "text/plain": [
       "[[3, 1, 2], [1, 2, 3], [3, 1, 2]]"
      ]
     },
     "execution_count": 28,
     "metadata": {},
     "output_type": "execute_result"
    }
   ],
   "source": [
    "l1"
   ]
  },
  {
   "cell_type": "code",
   "execution_count": null,
   "metadata": {},
   "outputs": [],
   "source": [
    "L1"
   ]
  },
  {
   "cell_type": "code",
   "execution_count": 17,
   "metadata": {},
   "outputs": [
    {
     "data": {
      "text/plain": [
       "[5, 4, 3, 2, 1]"
      ]
     },
     "execution_count": 17,
     "metadata": {},
     "output_type": "execute_result"
    }
   ],
   "source": [
    "list(range(N,0,-1))"
   ]
  },
  {
   "cell_type": "code",
   "execution_count": null,
   "metadata": {},
   "outputs": [],
   "source": []
  }
 ],
 "metadata": {
  "kernelspec": {
   "display_name": "Python 3",
   "language": "python",
   "name": "python3"
  },
  "language_info": {
   "codemirror_mode": {
    "name": "ipython",
    "version": 3
   },
   "file_extension": ".py",
   "mimetype": "text/x-python",
   "name": "python",
   "nbconvert_exporter": "python",
   "pygments_lexer": "ipython3",
   "version": "3.7.4"
  }
 },
 "nbformat": 4,
 "nbformat_minor": 2
}
