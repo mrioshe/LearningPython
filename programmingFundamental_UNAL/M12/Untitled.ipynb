{
 "cells": [
  {
   "cell_type": "code",
   "execution_count": null,
   "metadata": {},
   "outputs": [],
   "source": [
    "N = int(input())\n",
    "l=[]\n",
    "l2=[]\n",
    "if N <=1000:\n",
    "    for n in range(N):\n",
    "        l.append(input().split())"
   ]
  },
  {
   "cell_type": "code",
   "execution_count": null,
   "metadata": {},
   "outputs": [],
   "source": [
    "l"
   ]
  },
  {
   "cell_type": "code",
   "execution_count": null,
   "metadata": {},
   "outputs": [],
   "source": [
    "    for i in range(len(l)):\n",
    "        if l[i][3]=='positiva':\n",
    "            l2.append(l[i])"
   ]
  },
  {
   "cell_type": "code",
   "execution_count": null,
   "metadata": {},
   "outputs": [],
   "source": [
    "l2"
   ]
  },
  {
   "cell_type": "code",
   "execution_count": null,
   "metadata": {},
   "outputs": [],
   "source": [
    "l[5][2]"
   ]
  },
  {
   "cell_type": "code",
   "execution_count": null,
   "metadata": {},
   "outputs": [],
   "source": [
    "len(l)"
   ]
  },
  {
   "cell_type": "code",
   "execution_count": null,
   "metadata": {},
   "outputs": [],
   "source": [
    "range(6)"
   ]
  },
  {
   "cell_type": "code",
   "execution_count": null,
   "metadata": {},
   "outputs": [],
   "source": [
    "print(range(6))"
   ]
  },
  {
   "cell_type": "code",
   "execution_count": null,
   "metadata": {},
   "outputs": [],
   "source": [
    "list(range(6))"
   ]
  },
  {
   "cell_type": "code",
   "execution_count": null,
   "metadata": {},
   "outputs": [],
   "source": [
    "N = int(input())\n",
    "l=[]\n",
    "l2=[]\n",
    "if N <=1000:\n",
    "    for n in range(N):\n",
    "        l.append(input().split())\n",
    "    for i in range(len(l)):\n",
    "        if l[i][2]=='positiva':\n",
    "            l2.append(l[i]) \n",
    "    l2.sort(key=lambda x:x[3])\n",
    "    for j in range(len(l2)):\n",
    "        print(l[j][1],l[j][2].upper,l[j][3])"
   ]
  },
  {
   "cell_type": "code",
   "execution_count": null,
   "metadata": {},
   "outputs": [],
   "source": [
    "    for i in range(len(l)):\n",
    "        if l[i][2]=='positiva':\n",
    "            print(l[i])\n",
    "            l2.append(l[i]) "
   ]
  },
  {
   "cell_type": "code",
   "execution_count": null,
   "metadata": {},
   "outputs": [],
   "source": [
    "for e in l2:\n",
    "    print(e[1])"
   ]
  },
  {
   "cell_type": "code",
   "execution_count": null,
   "metadata": {},
   "outputs": [],
   "source": [
    "N = int(input())\n",
    "l=[]\n",
    "l2=[]\n",
    "if N <=1000:\n",
    "    for n in range(N):\n",
    "        l.append(input().split())\n",
    "    for i in range(len(l)):\n",
    "        if l[i][2]=='positiva':\n",
    "            l2.append(l[i])\n",
    "    l3=[[],[],[]]\n",
    "    for k in range(len(l2)):\n",
    "        a=l2[k][1]\n",
    "        b=l2[k][2]\n",
    "        c=l2[k][3]\n",
    "        l3[k].append(int(c))\n",
    "        l3[k].append(int(a))\n",
    "        l3[k].append(b)\n",
    "    l3.sort(reverse=True)\n",
    "    for j in range(len(l3)):\n",
    "        print(l3[j][1],(l3[j][2]).upper(),l3[j][0])\n",
    "  "
   ]
  },
  {
   "cell_type": "code",
   "execution_count": null,
   "metadata": {},
   "outputs": [],
   "source": [
    "l3"
   ]
  },
  {
   "cell_type": "code",
   "execution_count": null,
   "metadata": {},
   "outputs": [],
   "source": [
    "l3"
   ]
  },
  {
   "cell_type": "code",
   "execution_count": null,
   "metadata": {},
   "outputs": [],
   "source": [
    "a=' 8'"
   ]
  },
  {
   "cell_type": "code",
   "execution_count": null,
   "metadata": {},
   "outputs": [],
   "source": [
    "int(a)"
   ]
  },
  {
   "cell_type": "code",
   "execution_count": null,
   "metadata": {},
   "outputs": [],
   "source": [
    "E=int(input())\n",
    "l=[]\n",
    "for i in range(E):\n",
    "    l.append(input().split(','))\n",
    "for j in range(len(l)):\n",
    "    l[j].append(round(float(l[j][1])/(float((l[j][2]))**2),1))\n",
    "    if l[j][-1]> 25 and float(l[j][3])>100 and float(l[j][4])>150:\n",
    "        l[j].append(True)\n",
    "    else: \n",
    "        l[j].append(False)\n",
    "l2=[]\n",
    "for k in range(len(l)):\n",
    "    l2.append([])\n",
    "    if l[k][-1]==True:\n",
    "        l2[k].append(l[k][-2])\n",
    "        l2[k].append(l[k][0])\n",
    "l2.sort(reverse=True)\n",
    "c=1\n",
    "for h in range(len(l2)):\n",
    "    if not l2[h]==[]:\n",
    "        print(c,l2[h][1],l2[h][0])\n",
    "        c+=1\n"
   ]
  },
  {
   "cell_type": "code",
   "execution_count": null,
   "metadata": {},
   "outputs": [],
   "source": [
    "l2"
   ]
  },
  {
   "cell_type": "code",
   "execution_count": null,
   "metadata": {},
   "outputs": [],
   "source": [
    "l2"
   ]
  },
  {
   "cell_type": "code",
   "execution_count": null,
   "metadata": {},
   "outputs": [],
   "source": [
    "l2"
   ]
  },
  {
   "cell_type": "code",
   "execution_count": null,
   "metadata": {},
   "outputs": [],
   "source": [
    "list(set(l2))"
   ]
  },
  {
   "cell_type": "code",
   "execution_count": null,
   "metadata": {},
   "outputs": [],
   "source": [
    "l2"
   ]
  },
  {
   "cell_type": "code",
   "execution_count": null,
   "metadata": {},
   "outputs": [],
   "source": [
    "N=int(input())\n",
    "dic={}\n",
    "if N<=1000:\n",
    "    for i in range(N):  \n",
    "        a=(input().split())\n",
    "        dic[a[0]]=a[1]\n",
    "M=int(input())\n",
    "if M <=500:\n",
    "    for j in range(M):\n",
    "        m=input()\n",
    "        if m in dic.keys():\n",
    "            print(m, dic[m])\n",
    "        else:\n",
    "            print('palabra no encontrada')"
   ]
  },
  {
   "cell_type": "code",
   "execution_count": null,
   "metadata": {},
   "outputs": [],
   "source": [
    "def bandera(L):\n",
    "    l1=[]\n",
    "    for n in range(L):\n",
    "        l1.append([])\n",
    "        for b in range(L):\n",
    "            l1[n].append('0')\n",
    "    for k in range(L):\n",
    "        l1[k][int((L-1)/2)]='+'\n",
    "    for p in range(L):\n",
    "        l1[int((L-1)/2)][p]='+'\n",
    "    for f in range(L):\n",
    "        for m in range(L):\n",
    "            if f == m or m+f==L-1 :\n",
    "                l1[m][f]='#'\n",
    "    l2=[]\n",
    "    for z in range(L):\n",
    "        l2.append(''.join(l1[z]))\n",
    "    return(l2)"
   ]
  },
  {
   "cell_type": "code",
   "execution_count": null,
   "metadata": {},
   "outputs": [],
   "source": [
    "\n",
    "for s in range(7):\n",
    "    print(bandera(7)[s])"
   ]
  },
  {
   "cell_type": "code",
   "execution_count": null,
   "metadata": {},
   "outputs": [],
   "source": [
    "a ='abcd'"
   ]
  },
  {
   "cell_type": "code",
   "execution_count": null,
   "metadata": {},
   "outputs": [],
   "source": [
    "b=a.split('')"
   ]
  },
  {
   "cell_type": "code",
   "execution_count": null,
   "metadata": {},
   "outputs": [],
   "source": [
    "l2"
   ]
  },
  {
   "cell_type": "code",
   "execution_count": null,
   "metadata": {},
   "outputs": [],
   "source": [
    "bandera(7)"
   ]
  },
  {
   "cell_type": "code",
   "execution_count": null,
   "metadata": {},
   "outputs": [],
   "source": [
    "def bandera(L):\n",
    "    l1=[]\n",
    "    for n in range(L):\n",
    "        l1.append([])\n",
    "        for b in range(L):\n",
    "            l1[n].append('0')\n",
    "    for k in range(L):\n",
    "        l1[k][int((L-1)/2)]='+'\n",
    "    for p in range(L):\n",
    "        l1[int((L-1)/2)][p]='+'\n",
    "    for f in range(L):\n",
    "        for m in range(L):\n",
    "            if f == m or m+f==L-1 :\n",
    "                l1[m][f]='#'\n",
    "    l2=[]\n",
    "    for z in range(L):\n",
    "        l2.append(''.join(l1[z]))\n",
    "    return(l2)\n",
    "        \n",
    "C=int(input())\n",
    "if C < 50:\n",
    "    for i in range(C):\n",
    "        l=int(input())\n",
    "        lista=[]\n",
    "        for j in range(l):\n",
    "            lista.append(input())\n",
    "        if lista==bandera(l):\n",
    "            print('Bandera britanica')\n",
    "        else:\n",
    "            print('Ni idea')"
   ]
  },
  {
   "cell_type": "code",
   "execution_count": null,
   "metadata": {},
   "outputs": [],
   "source": [
    "dic={}"
   ]
  },
  {
   "cell_type": "code",
   "execution_count": null,
   "metadata": {},
   "outputs": [],
   "source": [
    "dic.values=['a','b','c']"
   ]
  },
  {
   "cell_type": "code",
   "execution_count": null,
   "metadata": {},
   "outputs": [],
   "source": [
    "print('/')"
   ]
  },
  {
   "cell_type": "code",
   "execution_count": null,
   "metadata": {},
   "outputs": [],
   "source": [
    "dic_morse={'a':'.- ','b':'-... ','c':'-.-. ','d':'-.. ','e':'. ','f':'..-. ',\n",
    "           'g':'--. ','h':'.... ','i':'.. ','j':'.--- ','k':'-.- ','l':'.-.. ',\n",
    "           'm':'-- ','n':'-. ','o':'-- ','p':'.--. ','q':'--.- ','r':'.-. ',\n",
    "           's':'... ','t':'- ','u':'..- ','v':'...- ','w':'.-- ','x':'-..- ',\n",
    "           'y':'-.-- ','z':'--.. ','.':'.-.-.- ',',':'-.-.-- ',' ':'/ '}\n",
    "N=int(input())\n",
    "for i in range(N):\n",
    "    if N<=1000:\n",
    "        a=input().lower()\n",
    "        for k in range(len(a)):\n",
    "            print(dic_morse[a[k]], sep=' ', end='')"
   ]
  },
  {
   "cell_type": "code",
   "execution_count": null,
   "metadata": {},
   "outputs": [],
   "source": [
    "N=int(input())\n",
    "if N<=5000:\n",
    "    dic={}\n",
    "    for i in range(N):\n",
    "        a=input().split(':')\n",
    "        if a[0] in dic.keys():\n",
    "            dic[a[0]]= dic[a[0]]+ int(a[1])\n",
    "        else:\n",
    "            dic[a[0]]=int(a[1])\n",
    "    print('El vendedor del mes es',max(dic, key=dic.get))"
   ]
  },
  {
   "cell_type": "code",
   "execution_count": null,
   "metadata": {},
   "outputs": [],
   "source": [
    "def zeller(d,m,y):\n",
    "    dia=(d+13*(m+1)//5 + y + y//4 - y//100 + y//400) % 7\n",
    "    return(dia)"
   ]
  },
  {
   "cell_type": "code",
   "execution_count": null,
   "metadata": {},
   "outputs": [],
   "source": [
    "zeller(21,11,1999)"
   ]
  },
  {
   "cell_type": "code",
   "execution_count": null,
   "metadata": {},
   "outputs": [],
   "source": [
    "def zeller(d,m,y):\n",
    "    if m==14 or m==13:\n",
    "        y+=-1\n",
    "    dia=(d+(13*(m+1))//5 + y + y//4 - y//100 + y//400) % 7\n",
    "    return(dia)\n",
    "\n",
    "dic_mes={'enero':13,'febrero':14,'marzo':3,'abril':4,'mayo':5,'junio':6,'julio':7,'agosto':\n",
    "     8,'septiembre':9,'octubre':10,'noviembre':11,'diciembre':12}\n",
    "dic_days={'0':'sabado','1':'domingo','2':'lunes','3':'martes','4':'miercoles','5':'jueves',\n",
    "          '6':'viernes'}\n",
    "\n",
    "N=int(input())\n",
    "if N <=1000:\n",
    "    for i in range(N):\n",
    "        fecha=input().split('-')\n",
    "        print(dic_days[str(zeller(int(fecha[0]),dic_mes[fecha[1]],int(fecha[2])))])"
   ]
  },
  {
   "cell_type": "code",
   "execution_count": null,
   "metadata": {},
   "outputs": [],
   "source": [
    "fecha"
   ]
  },
  {
   "cell_type": "code",
   "execution_count": null,
   "metadata": {},
   "outputs": [],
   "source": [
    "25-diciembre-1642 20-julio-1969 1-enero-2000"
   ]
  },
  {
   "cell_type": "code",
   "execution_count": null,
   "metadata": {},
   "outputs": [],
   "source": [
    "a='Mientras sufria de sarampion asaba nueces en el magosto.'\n"
   ]
  },
  {
   "cell_type": "code",
   "execution_count": null,
   "metadata": {},
   "outputs": [],
   "source": [
    "'saramago' in a"
   ]
  },
  {
   "cell_type": "code",
   "execution_count": null,
   "metadata": {},
   "outputs": [],
   "source": [
    "'sara' in a"
   ]
  },
  {
   "cell_type": "code",
   "execution_count": null,
   "metadata": {},
   "outputs": [],
   "source": [
    "'Mientras' in a"
   ]
  },
  {
   "cell_type": "code",
   "execution_count": null,
   "metadata": {},
   "outputs": [],
   "source": [
    "l=[1,2,3,4,5,6,7,8]\n",
    "l[0:2] = []"
   ]
  },
  {
   "cell_type": "code",
   "execution_count": null,
   "metadata": {},
   "outputs": [],
   "source": [
    "l"
   ]
  },
  {
   "cell_type": "code",
   "execution_count": null,
   "metadata": {},
   "outputs": [],
   "source": [
    "def comparar(l):\n",
    "    c=0\n",
    "    while len(l) >6 and ('s' in l) and (l.count('a')>=3)and ('r' in l) and ('m' in l) and('g' in l) and ('o' in l):\n",
    "        for i in range(len(l)):\n",
    "            if l[i]=='s':\n",
    " \n",
    "                \n",
    "                for k in range(i+1,len(l)):\n",
    "                    if l[k]=='a':\n",
    "                        for n in range(k+1,len(l)):\n",
    "                            if l[n]=='r':\n",
    "                                for m in range(n+1,len(l)):\n",
    "                                    if l[m]=='a':\n",
    "                                        for p in range(m+1,len(l)):\n",
    "                                            if l[p]=='m':\n",
    "                                                for j in range(p+1,len(l)):\n",
    "                                                    if l[j]=='a':\n",
    "                                                        for z in range(j+1,len(l)):\n",
    "                                                            if l[z]=='g':                                \n",
    "                                                                for w in range(z+1,len(l)):\n",
    "                                                                    if l[w]=='o':\n",
    "                                                                        c +=1\n",
    "                                                                        l.pop(i)\n",
    "                                                                        l.pop(k)\n",
    "                                                                        l.pop(n)\n",
    "                                                                        l.pop(m)\n",
    "                                                                        l.pop(j)\n",
    "                                                                        l.pop(z)\n",
    "                                                                        l.pop(w)\n",
    "                                                                        l[0:i-1]=[]\n",
    "                                                                        break\n",
    "                                                                break\n",
    "                                                        break\n",
    "                                                break\n",
    "                                        break\n",
    "                                break\n",
    "                        break\n",
    "                break\n",
    "            #else:\n",
    "               # l[0:i-1]=[]\n",
    "    return(c)\n",
    "\n",
    "a=open('cameos.txt','r')\n",
    "lista=[]\n",
    "for renglones in a:\n",
    "    for letras in renglones:\n",
    "        lista.append(letras.lower())\n",
    "    print(comparar(lista))\n",
    "    lista=[]   "
   ]
  },
  {
   "cell_type": "code",
   "execution_count": null,
   "metadata": {},
   "outputs": [],
   "source": [
    "lista"
   ]
  },
  {
   "cell_type": "code",
   "execution_count": null,
   "metadata": {},
   "outputs": [],
   "source": [
    "letras"
   ]
  },
  {
   "cell_type": "code",
   "execution_count": null,
   "metadata": {},
   "outputs": [],
   "source": [
    "b='abcd'"
   ]
  },
  {
   "cell_type": "code",
   "execution_count": null,
   "metadata": {},
   "outputs": [],
   "source": [
    "l1=b.split()"
   ]
  },
  {
   "cell_type": "code",
   "execution_count": null,
   "metadata": {},
   "outputs": [],
   "source": [
    "l1"
   ]
  },
  {
   "cell_type": "code",
   "execution_count": null,
   "metadata": {},
   "outputs": [],
   "source": [
    "letras"
   ]
  },
  {
   "cell_type": "code",
   "execution_count": null,
   "metadata": {},
   "outputs": [],
   "source": [
    "comparar(['s','a'])"
   ]
  },
  {
   "cell_type": "code",
   "execution_count": null,
   "metadata": {},
   "outputs": [],
   "source": [
    "l=['m',\n",
    " 'i',\n",
    " 'e',\n",
    " 'n',\n",
    " 't',\n",
    " 'r',\n",
    " 'a',\n",
    " 's',\n",
    " ' ',\n",
    " 's',\n",
    " 'u',\n",
    " 'f',\n",
    " 'r',\n",
    " 'i',\n",
    " 'a',\n",
    " ' ',\n",
    " 'd',\n",
    " 'e',\n",
    " ' ',\n",
    " 's',\n",
    " 'a',\n",
    " 'r',\n",
    " 'a',\n",
    " 'm',\n",
    " 'p',\n",
    " 'i',\n",
    " 'o',\n",
    " 'n',\n",
    " ' ',\n",
    " 'a',\n",
    " 's',\n",
    " 'a',\n",
    " 'b',\n",
    " 'a',\n",
    " ' ',\n",
    " 'n',\n",
    " 'u',\n",
    " 'e',\n",
    " 'c',\n",
    " 'e',\n",
    " 's',\n",
    " ' ',\n",
    " 'e',\n",
    " 'n',\n",
    " ' ',\n",
    " 'e',\n",
    " 'l',\n",
    " ' ',\n",
    " 'm',\n",
    " 'a',\n",
    " 'g',\n",
    " 'o',\n",
    " 's',\n",
    " 't',\n",
    " 'o',\n",
    " '.',\n",
    " '\\n']\n",
    "l=['s','a']\n",
    "c=0\n",
    "while len(l) >2 and ('s' in l)  and ('a' in l):\n",
    "    for i in range(len(l)):\n",
    "        if l[i]=='s':\n",
    "            for k in range(i+1,len(l)):\n",
    "                 if l[k]=='a':\n",
    "                    c +=1\n",
    "                    l.pop(i)\n",
    "                    l.pop(k)\n",
    "                    l[0:i-1]=[]\n",
    "                    break\n",
    "            break        \n",
    "    l[0:i-1]=[]"
   ]
  },
  {
   "cell_type": "code",
   "execution_count": null,
   "metadata": {},
   "outputs": [],
   "source": [
    "a=open('cameos.txt','r')\n",
    "lista=[]\n",
    "for renglones in a:\n",
    "    for letras in renglones:\n",
    "        lista.append(letras.lower())\n",
    "    print(comparar1(lista))\n",
    "    lista=[]"
   ]
  },
  {
   "cell_type": "code",
   "execution_count": null,
   "metadata": {},
   "outputs": [],
   "source": [
    "c"
   ]
  },
  {
   "cell_type": "code",
   "execution_count": null,
   "metadata": {},
   "outputs": [],
   "source": [
    "def comparar(l):\n",
    "    c=0\n",
    "    li=[]\n",
    "    for r in range(len(l)):\n",
    "        if l[r]=='s' or l[r]=='a'or l[r]=='r'or l[r]=='m'or l[r]=='g' or l[r]=0:\n",
    "            li.append(l[r])\n",
    "    while len(li) >6 and ('s' in li) and (l.count('a')>=3)and ('r' in li) and ('m' in li) and('g' in li) and ('o' in li):\n",
    "        for i in range(len(li)):\n",
    "            if li[i]== 's':\n",
    "                l1=li[i:len(li)]\n",
    "                \n",
    "                break\n",
    "        \n",
    "    "
   ]
  },
  {
   "cell_type": "code",
   "execution_count": 1,
   "metadata": {},
   "outputs": [
    {
     "name": "stdout",
     "output_type": "stream",
     "text": [
      "[98, 98, 98]\n"
     ]
    }
   ],
   "source": [
    "def alfa(X):\n",
    "    m = X - 9\n",
    "    return 3*[m]\n",
    "\n",
    "def beta(Y):\n",
    "    n = len(L)\n",
    "    s = 0\n",
    "    for e in L:\n",
    "        s += e*n\n",
    "        n -= 1\n",
    "    return s    \n",
    "\n",
    "L = [6, 3, 16, 4, 9]\n",
    "print(alfa(beta(L)))"
   ]
  },
  {
   "cell_type": "code",
   "execution_count": 2,
   "metadata": {},
   "outputs": [],
   "source": [
    "from random import randint"
   ]
  },
  {
   "cell_type": "code",
   "execution_count": 45,
   "metadata": {},
   "outputs": [
    {
     "data": {
      "text/plain": [
       "4"
      ]
     },
     "execution_count": 45,
     "metadata": {},
     "output_type": "execute_result"
    }
   ],
   "source": [
    "randint(1,6)+randint(1,6)"
   ]
  },
  {
   "cell_type": "code",
   "execution_count": 46,
   "metadata": {},
   "outputs": [
    {
     "name": "stdout",
     "output_type": "stream",
     "text": [
      "%\n"
     ]
    }
   ],
   "source": [
    "print('%')"
   ]
  },
  {
   "cell_type": "code",
   "execution_count": 47,
   "metadata": {},
   "outputs": [],
   "source": [
    "l=[1,2,3,1,2,3]"
   ]
  },
  {
   "cell_type": "code",
   "execution_count": 48,
   "metadata": {},
   "outputs": [],
   "source": [
    "l.remove(1)"
   ]
  },
  {
   "cell_type": "code",
   "execution_count": 49,
   "metadata": {},
   "outputs": [
    {
     "data": {
      "text/plain": [
       "[2, 3, 4, 5, 6]"
      ]
     },
     "execution_count": 49,
     "metadata": {},
     "output_type": "execute_result"
    }
   ],
   "source": [
    "l"
   ]
  },
  {
   "cell_type": "code",
   "execution_count": 50,
   "metadata": {},
   "outputs": [],
   "source": [
    "l1=[2,3]"
   ]
  },
  {
   "cell_type": "code",
   "execution_count": 51,
   "metadata": {},
   "outputs": [
    {
     "data": {
      "text/plain": [
       "[2, 3, 4, 5, 6, 2, 3]"
      ]
     },
     "execution_count": 51,
     "metadata": {},
     "output_type": "execute_result"
    }
   ],
   "source": [
    "l+l1"
   ]
  },
  {
   "cell_type": "code",
   "execution_count": 52,
   "metadata": {},
   "outputs": [
    {
     "ename": "TypeError",
     "evalue": "unsupported operand type(s) for -: 'list' and 'list'",
     "output_type": "error",
     "traceback": [
      "\u001b[1;31m---------------------------------------------------------------------------\u001b[0m",
      "\u001b[1;31mTypeError\u001b[0m                                 Traceback (most recent call last)",
      "\u001b[1;32m<ipython-input-52-05b6a21ce6bb>\u001b[0m in \u001b[0;36m<module>\u001b[1;34m\u001b[0m\n\u001b[1;32m----> 1\u001b[1;33m \u001b[0ml\u001b[0m\u001b[1;33m-\u001b[0m\u001b[0ml1\u001b[0m\u001b[1;33m\u001b[0m\u001b[1;33m\u001b[0m\u001b[0m\n\u001b[0m",
      "\u001b[1;31mTypeError\u001b[0m: unsupported operand type(s) for -: 'list' and 'list'"
     ]
    }
   ],
   "source": [
    "l-l1"
   ]
  },
  {
   "cell_type": "code",
   "execution_count": 53,
   "metadata": {},
   "outputs": [
    {
     "data": {
      "text/plain": [
       "0"
      ]
     },
     "execution_count": 53,
     "metadata": {},
     "output_type": "execute_result"
    }
   ],
   "source": [
    "l.index(2)"
   ]
  },
  {
   "cell_type": "code",
   "execution_count": 54,
   "metadata": {},
   "outputs": [
    {
     "data": {
      "text/plain": [
       "[2, 3, 4, 5, 6]"
      ]
     },
     "execution_count": 54,
     "metadata": {},
     "output_type": "execute_result"
    }
   ],
   "source": [
    "l"
   ]
  },
  {
   "cell_type": "code",
   "execution_count": 56,
   "metadata": {},
   "outputs": [
    {
     "data": {
      "text/plain": [
       "4"
      ]
     },
     "execution_count": 56,
     "metadata": {},
     "output_type": "execute_result"
    }
   ],
   "source": [
    "l.pop(l.index(4))"
   ]
  },
  {
   "cell_type": "code",
   "execution_count": 57,
   "metadata": {},
   "outputs": [
    {
     "data": {
      "text/plain": [
       "[2, 3, 5, 6]"
      ]
     },
     "execution_count": 57,
     "metadata": {},
     "output_type": "execute_result"
    }
   ],
   "source": [
    "l"
   ]
  },
  {
   "cell_type": "code",
   "execution_count": 1,
   "metadata": {},
   "outputs": [],
   "source": [
    "l=range(3)"
   ]
  },
  {
   "cell_type": "code",
   "execution_count": 2,
   "metadata": {},
   "outputs": [
    {
     "data": {
      "text/plain": [
       "range(0, 3)"
      ]
     },
     "execution_count": 2,
     "metadata": {},
     "output_type": "execute_result"
    }
   ],
   "source": [
    "l"
   ]
  },
  {
   "cell_type": "code",
   "execution_count": 3,
   "metadata": {},
   "outputs": [],
   "source": [
    "l=(0,3)"
   ]
  },
  {
   "cell_type": "code",
   "execution_count": 4,
   "metadata": {},
   "outputs": [
    {
     "data": {
      "text/plain": [
       "(0, 3)"
      ]
     },
     "execution_count": 4,
     "metadata": {},
     "output_type": "execute_result"
    }
   ],
   "source": [
    "l"
   ]
  },
  {
   "cell_type": "code",
   "execution_count": 5,
   "metadata": {},
   "outputs": [
    {
     "data": {
      "text/plain": [
       "[0, 1, 2]"
      ]
     },
     "execution_count": 5,
     "metadata": {},
     "output_type": "execute_result"
    }
   ],
   "source": [
    "list(range(0,3))"
   ]
  },
  {
   "cell_type": "code",
   "execution_count": 6,
   "metadata": {},
   "outputs": [],
   "source": [
    "string='abcde'"
   ]
  },
  {
   "cell_type": "code",
   "execution_count": 7,
   "metadata": {},
   "outputs": [
    {
     "data": {
      "text/plain": [
       "'abcd'"
      ]
     },
     "execution_count": 7,
     "metadata": {},
     "output_type": "execute_result"
    }
   ],
   "source": [
    "string[:-1]"
   ]
  },
  {
   "cell_type": "code",
   "execution_count": 1,
   "metadata": {},
   "outputs": [],
   "source": [
    "dic={}\n",
    "dic['Monday']=['lun']\n",
    "dic['Tueday']=['mar']\n",
    "dic['Wednesday']=['mie']\n",
    "dic['Thursday']=['juevç']\n",
    "dic['Friday']=['vie']\n",
    "dic['Saturday']=['sab']\n",
    "dic['Sunday']=['dom']"
   ]
  },
  {
   "cell_type": "code",
   "execution_count": 2,
   "metadata": {},
   "outputs": [
    {
     "ename": "KeyError",
     "evalue": "1",
     "output_type": "error",
     "traceback": [
      "\u001b[1;31m---------------------------------------------------------------------------\u001b[0m",
      "\u001b[1;31mKeyError\u001b[0m                                  Traceback (most recent call last)",
      "\u001b[1;32m<ipython-input-2-44fd7baa145e>\u001b[0m in \u001b[0;36m<module>\u001b[1;34m\u001b[0m\n\u001b[1;32m----> 1\u001b[1;33m \u001b[0mdic\u001b[0m\u001b[1;33m[\u001b[0m\u001b[1;36m1\u001b[0m\u001b[1;33m]\u001b[0m\u001b[1;33m\u001b[0m\u001b[1;33m\u001b[0m\u001b[0m\n\u001b[0m",
      "\u001b[1;31mKeyError\u001b[0m: 1"
     ]
    }
   ],
   "source": [
    "dic[1]"
   ]
  },
  {
   "cell_type": "code",
   "execution_count": null,
   "metadata": {},
   "outputs": [],
   "source": []
  }
 ],
 "metadata": {
  "kernelspec": {
   "display_name": "Python 3",
   "language": "python",
   "name": "python3"
  },
  "language_info": {
   "codemirror_mode": {
    "name": "ipython",
    "version": 3
   },
   "file_extension": ".py",
   "mimetype": "text/x-python",
   "name": "python",
   "nbconvert_exporter": "python",
   "pygments_lexer": "ipython3",
   "version": "3.7.4"
  }
 },
 "nbformat": 4,
 "nbformat_minor": 2
}
