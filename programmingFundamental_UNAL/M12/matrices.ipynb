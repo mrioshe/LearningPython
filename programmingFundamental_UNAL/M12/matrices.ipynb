{
 "cells": [
  {
   "cell_type": "code",
   "execution_count": 10,
   "metadata": {},
   "outputs": [
    {
     "name": "stdout",
     "output_type": "stream",
     "text": [
      "4\n",
      "3\n",
      "1 1 1\n",
      "0 1 1\n",
      "0 0 1\n",
      "Triangular superior\n",
      "2\n",
      "8.0 0.0\n",
      "7.0 6.0\n",
      "Triangular inferior\n",
      "4\n",
      "1 0 0 0\n",
      "0 2 0 0\n",
      "0 0 4 0\n",
      "0 0 0 8\n",
      "Diagonal\n",
      "2\n",
      "99 98\n",
      "97 96\n",
      "Ni diagonal ni triangular\n"
     ]
    }
   ],
   "source": [
    "c=int(input())\n",
    "for i in range(c):\n",
    "    control_inf=True\n",
    "    control_sup=True\n",
    "    m=[]\n",
    "    M=[]\n",
    "    N=int(input())\n",
    "    for k in range(N):\n",
    "        M.append(input().split())\n",
    "    for z in range(N):\n",
    "        for x in range(N):\n",
    "            M[z][x]=float(M[z][x])\n",
    "    for j in range(N):\n",
    "        m.append([])\n",
    "        for h in range(N):\n",
    "            if h==j:\n",
    "                m[j].append(1)\n",
    "            else:\n",
    "                m[j].append(0)\n",
    "    for g in range(N):\n",
    "        for f in range(N):\n",
    "            if g>f and m[g][f] != M[g][f]:\n",
    "                control_sup = False\n",
    "                break\n",
    "            elif g<f and m[g][f] != M[g][f]:\n",
    "                control_inf=False\n",
    "                break\n",
    "    if control_inf == True and control_sup== True:\n",
    "        print('Diagonal')\n",
    "    elif control_inf == True and control_sup== False:\n",
    "        print('Triangular inferior')\n",
    "    elif control_inf == False and control_sup== True:\n",
    "        print('Triangular superior')\n",
    "\n",
    "    else:\n",
    "        print('Ni diagonal ni triangular')"
   ]
  },
  {
   "cell_type": "code",
   "execution_count": 7,
   "metadata": {},
   "outputs": [
    {
     "data": {
      "text/plain": [
       "[['8.0', '0.0'], ['7.0', '6.0']]"
      ]
     },
     "execution_count": 7,
     "metadata": {},
     "output_type": "execute_result"
    }
   ],
   "source": [
    "1\n",
    "2\n",
    "8.0 0.0\n",
    "7.0 6.0\n",
    "Ni diagonal ni triangular"
   ]
  },
  {
   "cell_type": "code",
   "execution_count": 8,
   "metadata": {},
   "outputs": [
    {
     "data": {
      "text/plain": [
       "[['1', '0'], ['0', '1']]"
      ]
     },
     "execution_count": 8,
     "metadata": {},
     "output_type": "execute_result"
    }
   ],
   "source": [
    "m"
   ]
  },
  {
   "cell_type": "code",
   "execution_count": 4,
   "metadata": {},
   "outputs": [
    {
     "data": {
      "text/plain": [
       "[['1', '1', '1'], ['0', '1', '1'], ['0', '0', '1']]"
      ]
     },
     "execution_count": 4,
     "metadata": {},
     "output_type": "execute_result"
    }
   ],
   "source": [
    "M"
   ]
  },
  {
   "cell_type": "code",
   "execution_count": null,
   "metadata": {},
   "outputs": [],
   "source": []
  }
 ],
 "metadata": {
  "kernelspec": {
   "display_name": "Python 3",
   "language": "python",
   "name": "python3"
  },
  "language_info": {
   "codemirror_mode": {
    "name": "ipython",
    "version": 3
   },
   "file_extension": ".py",
   "mimetype": "text/x-python",
   "name": "python",
   "nbconvert_exporter": "python",
   "pygments_lexer": "ipython3",
   "version": "3.7.4"
  }
 },
 "nbformat": 4,
 "nbformat_minor": 2
}
