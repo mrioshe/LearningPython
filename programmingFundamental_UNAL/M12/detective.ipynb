{
 "cells": [
  {
   "cell_type": "code",
   "execution_count": 14,
   "metadata": {},
   "outputs": [
    {
     "name": "stdout",
     "output_type": "stream",
     "text": [
      "4\n",
      "el comediante, 3\n",
      "2000-01-01\n",
      "2000-01-15\n",
      "2000-01-29\n",
      "el comediante ataca cada 14 dias y volvera a hacerlo en 2000-02-12 \n",
      "\n",
      "la amante de gatos, 4\n",
      "1998-12-12\n",
      "1999-12-12\n",
      "2000-12-12\n",
      "2001-12-12\n",
      "la amante de gatos no es asesino(a) serial periodico\n",
      "\n",
      "el asesino de la calle 9, 5\n",
      "2009-09-09\n",
      "2012-06-04\n",
      "2015-02-28\n",
      "2017-11-23\n",
      "2020-08-18\n",
      "el asesino de la calle 9 ataca cada 999 dias y volvera a hacerlo en 2023-05-14 \n",
      "\n",
      "el estrangulador de la peluca de payazo, 4\n",
      "2005-07-10\n",
      "2005-08-10\n",
      "2005-09-10\n",
      "2005-10-10\n",
      "el estrangulador de la peluca de payazo no es asesino(a) serial periodico\n",
      "\n"
     ]
    }
   ],
   "source": [
    "from datetime import datetime, timedelta\n",
    "N=int(input())\n",
    "for k in range(N):\n",
    "    l=[]\n",
    "    date=input().split(', ')\n",
    "    for m in range(int(date[1])):\n",
    "        l.append(input())\n",
    "    control = True\n",
    "    for k in range(1,len(l)):\n",
    "        c=datetime.strptime(l[1],'%Y-%m-%d')-datetime.strptime(l[0],'%Y-%m-%d')\n",
    "        if datetime.strptime(l[k],'%Y-%m-%d')-datetime.strptime(l[k-1],'%Y-%m-%d')== c:\n",
    "            control = True\n",
    "        else: \n",
    "            control = False\n",
    "            break\n",
    "    x= (c+ datetime.strptime(l[k],'%Y-%m-%d')).strftime('%Y-%m-%d')\n",
    "    if control == True:\n",
    "        print(date[0], 'ataca cada', c.days, 'dias y volvera a hacerlo en',x,)   \n",
    "    else:\n",
    "        print(date[0],'no es asesino(a) serial periodico')\n",
    "    print('\\n')\n",
    "        \n",
    " "
   ]
  },
  {
   "cell_type": "code",
   "execution_count": 12,
   "metadata": {},
   "outputs": [
    {
     "data": {
      "text/plain": [
       "['2005-07-10', '2005-08-10', '2005-09-10', '2005-10-10']"
      ]
     },
     "execution_count": 12,
     "metadata": {},
     "output_type": "execute_result"
    }
   ],
   "source": [
    "l"
   ]
  },
  {
   "cell_type": "code",
   "execution_count": null,
   "metadata": {},
   "outputs": [],
   "source": []
  }
 ],
 "metadata": {
  "kernelspec": {
   "display_name": "Python 3",
   "language": "python",
   "name": "python3"
  },
  "language_info": {
   "codemirror_mode": {
    "name": "ipython",
    "version": 3
   },
   "file_extension": ".py",
   "mimetype": "text/x-python",
   "name": "python",
   "nbconvert_exporter": "python",
   "pygments_lexer": "ipython3",
   "version": "3.7.4"
  }
 },
 "nbformat": 4,
 "nbformat_minor": 2
}
