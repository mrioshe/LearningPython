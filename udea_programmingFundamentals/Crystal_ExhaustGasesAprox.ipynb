{
  "nbformat": 4,
  "nbformat_minor": 0,
  "metadata": {
    "colab": {
      "provenance": []
    },
    "kernelspec": {
      "name": "python3",
      "display_name": "Python 3"
    },
    "language_info": {
      "name": "python"
    }
  },
  "cells": [
    {
      "cell_type": "code",
      "execution_count": null,
      "metadata": {
        "id": "1zxi6pOQFSzS"
      },
      "outputs": [],
      "source": [
        "#Libraries:\n",
        "\n",
        "import pandas as pd\n",
        "import numpy as np\n",
        "\n",
        "from google.colab import files"
      ]
    },
    {
      "cell_type": "markdown",
      "source": [
        "##Data"
      ],
      "metadata": {
        "id": "ueP4x-Vyf2ju"
      }
    },
    {
      "cell_type": "code",
      "source": [
        "# Input data:\n",
        "\n",
        "# coal mass flow[kg_coal/h]:\n",
        "m_dot_coal=[120,140,182,136,651]\n",
        "m_dot_coal=[float(x) for x in m_dot_coal]\n",
        "\n",
        "# coal composition[%]:\n",
        "coal_composition={\"C\":0.6561,\"H\":0.01215,\"O\":0.1375,\"S\":0.38*10**(-3),\"H2O\":0.1048, \"Ash\":0.774}\n",
        "\n",
        "# Molar mass [kg/kmol]:\n",
        "molar_mass={\"C\":12,\"H\":1,\"O\":16,\"S\":32,\"H\":1,\"N\":14}"
      ],
      "metadata": {
        "id": "AkVaByAhQxI2"
      },
      "execution_count": null,
      "outputs": []
    },
    {
      "cell_type": "code",
      "source": [
        "# Other molar mass [kg/kmol]:\n",
        "\n",
        "molar_mass[\"H2O\"]=2*molar_mass[\"H\"]+molar_mass[\"O\"]\n",
        "molar_mass[\"N2\"]=2*molar_mass[\"N\"]\n",
        "molar_mass[\"O2\"]=2*molar_mass[\"O\"]\n",
        "molar_mass[\"CO2\"]=2*molar_mass[\"O\"]+molar_mass[\"C\"]\n",
        "molar_mass[\"SO2\"]=2*molar_mass[\"O\"]+molar_mass[\"S\"]\n",
        "molar_mass[\"Air\"]=28.9"
      ],
      "metadata": {
        "id": "SgRmBkluVhnx"
      },
      "execution_count": null,
      "outputs": []
    },
    {
      "cell_type": "markdown",
      "source": [
        "##CO2 aproximation:\n",
        "\n",
        "\n"
      ],
      "metadata": {
        "id": "SJiUSI0lfo05"
      }
    },
    {
      "cell_type": "code",
      "source": [
        "# reagent moles [kmol/kg_coal]\n",
        "reagent_moles={\"C\":0.6561/molar_mass[\"C\"],\"H\":0.01215/molar_mass[\"H\"],\"O\":0.1375/molar_mass[\"O\"],\"S\":0.38*10**(-3)/molar_mass[\"S\"],\"a_t\":0.05647}\n",
        "\n",
        "# Product moles [kmol/kg_coal]\n",
        "product_moles={\"CO2\":0.05468,\"H2O\":0.02426,\"SO2\":1.188*10**(-5),\"N2\":0.2134}"
      ],
      "metadata": {
        "id": "Q8jU0bdtVHyA"
      },
      "execution_count": null,
      "outputs": []
    },
    {
      "cell_type": "markdown",
      "source": [
        "Ecuación  estequimétrica de combustión:\n",
        "\n",
        "$$C_{0.05468}H_{0.02426}O_{8.594\\times10^{-3}}S_{1.188\\times{10^{-5}}}+a_t(O_2+3.78N_2) \\\\ \\to 0.05468CO_2+0.01215H_2O+1.188\\times 10^{-5}SO_2+0.2134N_2 \\ \\left[\\frac{kmol}{kg_{coal}} \\right]$$"
      ],
      "metadata": {
        "id": "6su84UtFfMc_"
      }
    },
    {
      "cell_type": "markdown",
      "source": [
        "\n",
        "To calculate the $CO_2$ in the chimney fumes in boiler 1, proceed as follows:\n",
        "\n",
        "$$\\dot{m}_{CO_2,1}=0.05468\\frac{kmol_{CO_2}}{kg_{coal}}\\times\\frac{44kg_{CO_2}}{1kmol_{CO_2}}\\times\\frac{120kg_{coal}}{1h}=288.684 \\frac{kg_{CO_2}}{h}$$\n",
        "\n",
        "The same procedure applies to all:"
      ],
      "metadata": {
        "id": "jxM-1cv-gXwx"
      }
    },
    {
      "cell_type": "code",
      "source": [
        "# CO2 flow [kg/h]\n",
        "\n",
        "boiler=[\"Térmica 1\", \"Térmica 2\",\" Térmica 3\", \"Térmica 4\", \"Térmica JCT\"]\n",
        "exhaust_gases=pd.DataFrame({ \"Coal Flow rate [kg/h]\":m_dot_coal})\n",
        "exhaust_gases.index=boiler\n",
        "exhaust_gases[\"CO2 Flow rate [kg/h]\"]=product_moles[\"CO2\"]*molar_mass[\"CO2\"]*exhaust_gases[\"Coal Flow rate [kg/h]\"]\n",
        "exhaust_gases"
      ],
      "metadata": {
        "id": "xBw70UREf7rX",
        "colab": {
          "base_uri": "https://localhost:8080/",
          "height": 206
        },
        "outputId": "695e773e-c6eb-49c4-92a7-b5ab295bf9ef"
      },
      "execution_count": null,
      "outputs": [
        {
          "output_type": "execute_result",
          "data": {
            "text/plain": [
              "             Coal Flow rate [kg/h]  CO2 Flow rate [kg/h]\n",
              "Térmica 1                    120.0             288.71040\n",
              "Térmica 2                    140.0             336.82880\n",
              " Térmica 3                   182.0             437.87744\n",
              "Térmica 4                    136.0             327.20512\n",
              "Térmica JCT                  651.0            1566.25392"
            ],
            "text/html": [
              "\n",
              "  <div id=\"df-09faaf1a-775e-4323-9dc9-7887d2c3496f\" class=\"colab-df-container\">\n",
              "    <div>\n",
              "<style scoped>\n",
              "    .dataframe tbody tr th:only-of-type {\n",
              "        vertical-align: middle;\n",
              "    }\n",
              "\n",
              "    .dataframe tbody tr th {\n",
              "        vertical-align: top;\n",
              "    }\n",
              "\n",
              "    .dataframe thead th {\n",
              "        text-align: right;\n",
              "    }\n",
              "</style>\n",
              "<table border=\"1\" class=\"dataframe\">\n",
              "  <thead>\n",
              "    <tr style=\"text-align: right;\">\n",
              "      <th></th>\n",
              "      <th>Coal Flow rate [kg/h]</th>\n",
              "      <th>CO2 Flow rate [kg/h]</th>\n",
              "    </tr>\n",
              "  </thead>\n",
              "  <tbody>\n",
              "    <tr>\n",
              "      <th>Térmica 1</th>\n",
              "      <td>120.0</td>\n",
              "      <td>288.71040</td>\n",
              "    </tr>\n",
              "    <tr>\n",
              "      <th>Térmica 2</th>\n",
              "      <td>140.0</td>\n",
              "      <td>336.82880</td>\n",
              "    </tr>\n",
              "    <tr>\n",
              "      <th>Térmica 3</th>\n",
              "      <td>182.0</td>\n",
              "      <td>437.87744</td>\n",
              "    </tr>\n",
              "    <tr>\n",
              "      <th>Térmica 4</th>\n",
              "      <td>136.0</td>\n",
              "      <td>327.20512</td>\n",
              "    </tr>\n",
              "    <tr>\n",
              "      <th>Térmica JCT</th>\n",
              "      <td>651.0</td>\n",
              "      <td>1566.25392</td>\n",
              "    </tr>\n",
              "  </tbody>\n",
              "</table>\n",
              "</div>\n",
              "    <div class=\"colab-df-buttons\">\n",
              "\n",
              "  <div class=\"colab-df-container\">\n",
              "    <button class=\"colab-df-convert\" onclick=\"convertToInteractive('df-09faaf1a-775e-4323-9dc9-7887d2c3496f')\"\n",
              "            title=\"Convert this dataframe to an interactive table.\"\n",
              "            style=\"display:none;\">\n",
              "\n",
              "  <svg xmlns=\"http://www.w3.org/2000/svg\" height=\"24px\" viewBox=\"0 -960 960 960\">\n",
              "    <path d=\"M120-120v-720h720v720H120Zm60-500h600v-160H180v160Zm220 220h160v-160H400v160Zm0 220h160v-160H400v160ZM180-400h160v-160H180v160Zm440 0h160v-160H620v160ZM180-180h160v-160H180v160Zm440 0h160v-160H620v160Z\"/>\n",
              "  </svg>\n",
              "    </button>\n",
              "\n",
              "  <style>\n",
              "    .colab-df-container {\n",
              "      display:flex;\n",
              "      gap: 12px;\n",
              "    }\n",
              "\n",
              "    .colab-df-convert {\n",
              "      background-color: #E8F0FE;\n",
              "      border: none;\n",
              "      border-radius: 50%;\n",
              "      cursor: pointer;\n",
              "      display: none;\n",
              "      fill: #1967D2;\n",
              "      height: 32px;\n",
              "      padding: 0 0 0 0;\n",
              "      width: 32px;\n",
              "    }\n",
              "\n",
              "    .colab-df-convert:hover {\n",
              "      background-color: #E2EBFA;\n",
              "      box-shadow: 0px 1px 2px rgba(60, 64, 67, 0.3), 0px 1px 3px 1px rgba(60, 64, 67, 0.15);\n",
              "      fill: #174EA6;\n",
              "    }\n",
              "\n",
              "    .colab-df-buttons div {\n",
              "      margin-bottom: 4px;\n",
              "    }\n",
              "\n",
              "    [theme=dark] .colab-df-convert {\n",
              "      background-color: #3B4455;\n",
              "      fill: #D2E3FC;\n",
              "    }\n",
              "\n",
              "    [theme=dark] .colab-df-convert:hover {\n",
              "      background-color: #434B5C;\n",
              "      box-shadow: 0px 1px 3px 1px rgba(0, 0, 0, 0.15);\n",
              "      filter: drop-shadow(0px 1px 2px rgba(0, 0, 0, 0.3));\n",
              "      fill: #FFFFFF;\n",
              "    }\n",
              "  </style>\n",
              "\n",
              "    <script>\n",
              "      const buttonEl =\n",
              "        document.querySelector('#df-09faaf1a-775e-4323-9dc9-7887d2c3496f button.colab-df-convert');\n",
              "      buttonEl.style.display =\n",
              "        google.colab.kernel.accessAllowed ? 'block' : 'none';\n",
              "\n",
              "      async function convertToInteractive(key) {\n",
              "        const element = document.querySelector('#df-09faaf1a-775e-4323-9dc9-7887d2c3496f');\n",
              "        const dataTable =\n",
              "          await google.colab.kernel.invokeFunction('convertToInteractive',\n",
              "                                                    [key], {});\n",
              "        if (!dataTable) return;\n",
              "\n",
              "        const docLinkHtml = 'Like what you see? Visit the ' +\n",
              "          '<a target=\"_blank\" href=https://colab.research.google.com/notebooks/data_table.ipynb>data table notebook</a>'\n",
              "          + ' to learn more about interactive tables.';\n",
              "        element.innerHTML = '';\n",
              "        dataTable['output_type'] = 'display_data';\n",
              "        await google.colab.output.renderOutput(dataTable, element);\n",
              "        const docLink = document.createElement('div');\n",
              "        docLink.innerHTML = docLinkHtml;\n",
              "        element.appendChild(docLink);\n",
              "      }\n",
              "    </script>\n",
              "  </div>\n",
              "\n",
              "\n",
              "<div id=\"df-e2321cc2-aa78-4381-a8a9-ef2d9e7b771d\">\n",
              "  <button class=\"colab-df-quickchart\" onclick=\"quickchart('df-e2321cc2-aa78-4381-a8a9-ef2d9e7b771d')\"\n",
              "            title=\"Suggest charts\"\n",
              "            style=\"display:none;\">\n",
              "\n",
              "<svg xmlns=\"http://www.w3.org/2000/svg\" height=\"24px\"viewBox=\"0 0 24 24\"\n",
              "     width=\"24px\">\n",
              "    <g>\n",
              "        <path d=\"M19 3H5c-1.1 0-2 .9-2 2v14c0 1.1.9 2 2 2h14c1.1 0 2-.9 2-2V5c0-1.1-.9-2-2-2zM9 17H7v-7h2v7zm4 0h-2V7h2v10zm4 0h-2v-4h2v4z\"/>\n",
              "    </g>\n",
              "</svg>\n",
              "  </button>\n",
              "\n",
              "<style>\n",
              "  .colab-df-quickchart {\n",
              "      --bg-color: #E8F0FE;\n",
              "      --fill-color: #1967D2;\n",
              "      --hover-bg-color: #E2EBFA;\n",
              "      --hover-fill-color: #174EA6;\n",
              "      --disabled-fill-color: #AAA;\n",
              "      --disabled-bg-color: #DDD;\n",
              "  }\n",
              "\n",
              "  [theme=dark] .colab-df-quickchart {\n",
              "      --bg-color: #3B4455;\n",
              "      --fill-color: #D2E3FC;\n",
              "      --hover-bg-color: #434B5C;\n",
              "      --hover-fill-color: #FFFFFF;\n",
              "      --disabled-bg-color: #3B4455;\n",
              "      --disabled-fill-color: #666;\n",
              "  }\n",
              "\n",
              "  .colab-df-quickchart {\n",
              "    background-color: var(--bg-color);\n",
              "    border: none;\n",
              "    border-radius: 50%;\n",
              "    cursor: pointer;\n",
              "    display: none;\n",
              "    fill: var(--fill-color);\n",
              "    height: 32px;\n",
              "    padding: 0;\n",
              "    width: 32px;\n",
              "  }\n",
              "\n",
              "  .colab-df-quickchart:hover {\n",
              "    background-color: var(--hover-bg-color);\n",
              "    box-shadow: 0 1px 2px rgba(60, 64, 67, 0.3), 0 1px 3px 1px rgba(60, 64, 67, 0.15);\n",
              "    fill: var(--button-hover-fill-color);\n",
              "  }\n",
              "\n",
              "  .colab-df-quickchart-complete:disabled,\n",
              "  .colab-df-quickchart-complete:disabled:hover {\n",
              "    background-color: var(--disabled-bg-color);\n",
              "    fill: var(--disabled-fill-color);\n",
              "    box-shadow: none;\n",
              "  }\n",
              "\n",
              "  .colab-df-spinner {\n",
              "    border: 2px solid var(--fill-color);\n",
              "    border-color: transparent;\n",
              "    border-bottom-color: var(--fill-color);\n",
              "    animation:\n",
              "      spin 1s steps(1) infinite;\n",
              "  }\n",
              "\n",
              "  @keyframes spin {\n",
              "    0% {\n",
              "      border-color: transparent;\n",
              "      border-bottom-color: var(--fill-color);\n",
              "      border-left-color: var(--fill-color);\n",
              "    }\n",
              "    20% {\n",
              "      border-color: transparent;\n",
              "      border-left-color: var(--fill-color);\n",
              "      border-top-color: var(--fill-color);\n",
              "    }\n",
              "    30% {\n",
              "      border-color: transparent;\n",
              "      border-left-color: var(--fill-color);\n",
              "      border-top-color: var(--fill-color);\n",
              "      border-right-color: var(--fill-color);\n",
              "    }\n",
              "    40% {\n",
              "      border-color: transparent;\n",
              "      border-right-color: var(--fill-color);\n",
              "      border-top-color: var(--fill-color);\n",
              "    }\n",
              "    60% {\n",
              "      border-color: transparent;\n",
              "      border-right-color: var(--fill-color);\n",
              "    }\n",
              "    80% {\n",
              "      border-color: transparent;\n",
              "      border-right-color: var(--fill-color);\n",
              "      border-bottom-color: var(--fill-color);\n",
              "    }\n",
              "    90% {\n",
              "      border-color: transparent;\n",
              "      border-bottom-color: var(--fill-color);\n",
              "    }\n",
              "  }\n",
              "</style>\n",
              "\n",
              "  <script>\n",
              "    async function quickchart(key) {\n",
              "      const quickchartButtonEl =\n",
              "        document.querySelector('#' + key + ' button');\n",
              "      quickchartButtonEl.disabled = true;  // To prevent multiple clicks.\n",
              "      quickchartButtonEl.classList.add('colab-df-spinner');\n",
              "      try {\n",
              "        const charts = await google.colab.kernel.invokeFunction(\n",
              "            'suggestCharts', [key], {});\n",
              "      } catch (error) {\n",
              "        console.error('Error during call to suggestCharts:', error);\n",
              "      }\n",
              "      quickchartButtonEl.classList.remove('colab-df-spinner');\n",
              "      quickchartButtonEl.classList.add('colab-df-quickchart-complete');\n",
              "    }\n",
              "    (() => {\n",
              "      let quickchartButtonEl =\n",
              "        document.querySelector('#df-e2321cc2-aa78-4381-a8a9-ef2d9e7b771d button');\n",
              "      quickchartButtonEl.style.display =\n",
              "        google.colab.kernel.accessAllowed ? 'block' : 'none';\n",
              "    })();\n",
              "  </script>\n",
              "</div>\n",
              "\n",
              "  <div id=\"id_7598a250-99b0-4f29-8a18-e827d1d2563d\">\n",
              "    <style>\n",
              "      .colab-df-generate {\n",
              "        background-color: #E8F0FE;\n",
              "        border: none;\n",
              "        border-radius: 50%;\n",
              "        cursor: pointer;\n",
              "        display: none;\n",
              "        fill: #1967D2;\n",
              "        height: 32px;\n",
              "        padding: 0 0 0 0;\n",
              "        width: 32px;\n",
              "      }\n",
              "\n",
              "      .colab-df-generate:hover {\n",
              "        background-color: #E2EBFA;\n",
              "        box-shadow: 0px 1px 2px rgba(60, 64, 67, 0.3), 0px 1px 3px 1px rgba(60, 64, 67, 0.15);\n",
              "        fill: #174EA6;\n",
              "      }\n",
              "\n",
              "      [theme=dark] .colab-df-generate {\n",
              "        background-color: #3B4455;\n",
              "        fill: #D2E3FC;\n",
              "      }\n",
              "\n",
              "      [theme=dark] .colab-df-generate:hover {\n",
              "        background-color: #434B5C;\n",
              "        box-shadow: 0px 1px 3px 1px rgba(0, 0, 0, 0.15);\n",
              "        filter: drop-shadow(0px 1px 2px rgba(0, 0, 0, 0.3));\n",
              "        fill: #FFFFFF;\n",
              "      }\n",
              "    </style>\n",
              "    <button class=\"colab-df-generate\" onclick=\"generateWithVariable('exhaust_gases')\"\n",
              "            title=\"Generate code using this dataframe.\"\n",
              "            style=\"display:none;\">\n",
              "\n",
              "  <svg xmlns=\"http://www.w3.org/2000/svg\" height=\"24px\"viewBox=\"0 0 24 24\"\n",
              "       width=\"24px\">\n",
              "    <path d=\"M7,19H8.4L18.45,9,17,7.55,7,17.6ZM5,21V16.75L18.45,3.32a2,2,0,0,1,2.83,0l1.4,1.43a1.91,1.91,0,0,1,.58,1.4,1.91,1.91,0,0,1-.58,1.4L9.25,21ZM18.45,9,17,7.55Zm-12,3A5.31,5.31,0,0,0,4.9,8.1,5.31,5.31,0,0,0,1,6.5,5.31,5.31,0,0,0,4.9,4.9,5.31,5.31,0,0,0,6.5,1,5.31,5.31,0,0,0,8.1,4.9,5.31,5.31,0,0,0,12,6.5,5.46,5.46,0,0,0,6.5,12Z\"/>\n",
              "  </svg>\n",
              "    </button>\n",
              "    <script>\n",
              "      (() => {\n",
              "      const buttonEl =\n",
              "        document.querySelector('#id_7598a250-99b0-4f29-8a18-e827d1d2563d button.colab-df-generate');\n",
              "      buttonEl.style.display =\n",
              "        google.colab.kernel.accessAllowed ? 'block' : 'none';\n",
              "\n",
              "      buttonEl.onclick = () => {\n",
              "        google.colab.notebook.generateWithVariable('exhaust_gases');\n",
              "      }\n",
              "      })();\n",
              "    </script>\n",
              "  </div>\n",
              "\n",
              "    </div>\n",
              "  </div>\n"
            ],
            "application/vnd.google.colaboratory.intrinsic+json": {
              "type": "dataframe",
              "variable_name": "exhaust_gases",
              "summary": "{\n  \"name\": \"exhaust_gases\",\n  \"rows\": 5,\n  \"fields\": [\n    {\n      \"column\": \"Coal Flow rate [kg/h]\",\n      \"properties\": {\n        \"dtype\": \"number\",\n        \"std\": 227.66905806455122,\n        \"min\": 120.0,\n        \"max\": 651.0,\n        \"num_unique_values\": 5,\n        \"samples\": [\n          140.0,\n          651.0,\n          182.0\n        ],\n        \"semantic_type\": \"\",\n        \"description\": \"\"\n      }\n    },\n    {\n      \"column\": \"CO2 Flow rate [kg/h]\",\n      \"properties\": {\n        \"dtype\": \"number\",\n        \"std\": 547.7535401786652,\n        \"min\": 288.7104,\n        \"max\": 1566.25392,\n        \"num_unique_values\": 5,\n        \"samples\": [\n          336.8288,\n          1566.25392,\n          437.87744000000004\n        ],\n        \"semantic_type\": \"\",\n        \"description\": \"\"\n      }\n    }\n  ]\n}"
            }
          },
          "metadata": {},
          "execution_count": 6
        }
      ]
    },
    {
      "cell_type": "markdown",
      "source": [
        "##Chimney gases approximation:"
      ],
      "metadata": {
        "id": "bTbCn_l67xdn"
      }
    },
    {
      "cell_type": "code",
      "source": [
        "product_moles_2={\"CO2\":0.05468,\"H2O\":0.01215,\"SO2\":1.188*10**(-5),\"N2\":0.3842,\"O2\":0.0452}\n",
        "\n",
        "# Gases [kg gas/kg coal]\n",
        "exhaust_gases_mass=dict(zip([x for x in list(product_moles_2.keys())],[product_moles_2[x]*molar_mass[x] for x in list(product_moles_2.keys())]))\n",
        "exhaust_gases_mass[\"H2O\"]=exhaust_gases_mass[\"H2O\"]+1.8*reagent_moles['a_t']*molar_mass[\"Air\"]*0.1/0.9+0.1048\n",
        "\n",
        "exhaust_gases=pd.DataFrame({ \"Coal Flow rate [kg/h]\":m_dot_coal})\n",
        "exhaust_gases.index=boiler\n",
        "exhaust_gases[\"CO2 Flow rate [kg/h]\"]=product_moles[\"CO2\"]*molar_mass[\"CO2\"]*exhaust_gases[\"Coal Flow rate [kg/h]\"]\n",
        "exhaust_gases_qty=exhaust_gases.copy()\n",
        "\n",
        "for i in range(1,len(exhaust_gases_mass)):\n",
        "  exhaust_gases_qty[list(exhaust_gases_mass.keys())[i]+\" flow rate [kg/h]\"]= exhaust_gases_mass[list(exhaust_gases_mass.keys())[i]]*exhaust_gases_qty[\"Coal Flow rate [kg/h]\"]\n",
        "\n",
        "exhaust_gases_qty.to_excel('ExhaustGasesQty.xlsx')\n",
        "files.download('ExhaustGasesQty.xlsx')\n",
        "\n",
        "exhaust_gas=sum(exhaust_gases_mass.values())\n",
        "exhaust_gases['Chimney gases [kg/h]']=exhaust_gas*exhaust_gases[\"Coal Flow rate [kg/h]\"]\n",
        "\n",
        "exhaust_gases"
      ],
      "metadata": {
        "id": "dfr8V6IN8KSX",
        "colab": {
          "base_uri": "https://localhost:8080/",
          "height": 206
        },
        "outputId": "e0ff9697-f4d9-4570-e92a-4369f70926c3"
      },
      "execution_count": null,
      "outputs": [
        {
          "output_type": "display_data",
          "data": {
            "text/plain": [
              "<IPython.core.display.Javascript object>"
            ],
            "application/javascript": [
              "\n",
              "    async function download(id, filename, size) {\n",
              "      if (!google.colab.kernel.accessAllowed) {\n",
              "        return;\n",
              "      }\n",
              "      const div = document.createElement('div');\n",
              "      const label = document.createElement('label');\n",
              "      label.textContent = `Downloading \"${filename}\": `;\n",
              "      div.appendChild(label);\n",
              "      const progress = document.createElement('progress');\n",
              "      progress.max = size;\n",
              "      div.appendChild(progress);\n",
              "      document.body.appendChild(div);\n",
              "\n",
              "      const buffers = [];\n",
              "      let downloaded = 0;\n",
              "\n",
              "      const channel = await google.colab.kernel.comms.open(id);\n",
              "      // Send a message to notify the kernel that we're ready.\n",
              "      channel.send({})\n",
              "\n",
              "      for await (const message of channel.messages) {\n",
              "        // Send a message to notify the kernel that we're ready.\n",
              "        channel.send({})\n",
              "        if (message.buffers) {\n",
              "          for (const buffer of message.buffers) {\n",
              "            buffers.push(buffer);\n",
              "            downloaded += buffer.byteLength;\n",
              "            progress.value = downloaded;\n",
              "          }\n",
              "        }\n",
              "      }\n",
              "      const blob = new Blob(buffers, {type: 'application/binary'});\n",
              "      const a = document.createElement('a');\n",
              "      a.href = window.URL.createObjectURL(blob);\n",
              "      a.download = filename;\n",
              "      div.appendChild(a);\n",
              "      a.click();\n",
              "      div.remove();\n",
              "    }\n",
              "  "
            ]
          },
          "metadata": {}
        },
        {
          "output_type": "display_data",
          "data": {
            "text/plain": [
              "<IPython.core.display.Javascript object>"
            ],
            "application/javascript": [
              "download(\"download_51f4f12f-d833-44fb-9d17-ca0f52723820\", \"ExhaustGasesQty.xlsx\", 5355)"
            ]
          },
          "metadata": {}
        },
        {
          "output_type": "execute_result",
          "data": {
            "text/plain": [
              "             Coal Flow rate [kg/h]  CO2 Flow rate [kg/h]  Chimney gases [kg/h]\n",
              "Térmica 1                    120.0             288.71040           1831.269230\n",
              "Térmica 2                    140.0             336.82880           2136.480769\n",
              " Térmica 3                   182.0             437.87744           2777.424999\n",
              "Térmica 4                    136.0             327.20512           2075.438461\n",
              "Térmica JCT                  651.0            1566.25392           9934.635575"
            ],
            "text/html": [
              "\n",
              "  <div id=\"df-d66b456e-5b86-430d-b0b8-5ffc42190b0d\" class=\"colab-df-container\">\n",
              "    <div>\n",
              "<style scoped>\n",
              "    .dataframe tbody tr th:only-of-type {\n",
              "        vertical-align: middle;\n",
              "    }\n",
              "\n",
              "    .dataframe tbody tr th {\n",
              "        vertical-align: top;\n",
              "    }\n",
              "\n",
              "    .dataframe thead th {\n",
              "        text-align: right;\n",
              "    }\n",
              "</style>\n",
              "<table border=\"1\" class=\"dataframe\">\n",
              "  <thead>\n",
              "    <tr style=\"text-align: right;\">\n",
              "      <th></th>\n",
              "      <th>Coal Flow rate [kg/h]</th>\n",
              "      <th>CO2 Flow rate [kg/h]</th>\n",
              "      <th>Chimney gases [kg/h]</th>\n",
              "    </tr>\n",
              "  </thead>\n",
              "  <tbody>\n",
              "    <tr>\n",
              "      <th>Térmica 1</th>\n",
              "      <td>120.0</td>\n",
              "      <td>288.71040</td>\n",
              "      <td>1831.269230</td>\n",
              "    </tr>\n",
              "    <tr>\n",
              "      <th>Térmica 2</th>\n",
              "      <td>140.0</td>\n",
              "      <td>336.82880</td>\n",
              "      <td>2136.480769</td>\n",
              "    </tr>\n",
              "    <tr>\n",
              "      <th>Térmica 3</th>\n",
              "      <td>182.0</td>\n",
              "      <td>437.87744</td>\n",
              "      <td>2777.424999</td>\n",
              "    </tr>\n",
              "    <tr>\n",
              "      <th>Térmica 4</th>\n",
              "      <td>136.0</td>\n",
              "      <td>327.20512</td>\n",
              "      <td>2075.438461</td>\n",
              "    </tr>\n",
              "    <tr>\n",
              "      <th>Térmica JCT</th>\n",
              "      <td>651.0</td>\n",
              "      <td>1566.25392</td>\n",
              "      <td>9934.635575</td>\n",
              "    </tr>\n",
              "  </tbody>\n",
              "</table>\n",
              "</div>\n",
              "    <div class=\"colab-df-buttons\">\n",
              "\n",
              "  <div class=\"colab-df-container\">\n",
              "    <button class=\"colab-df-convert\" onclick=\"convertToInteractive('df-d66b456e-5b86-430d-b0b8-5ffc42190b0d')\"\n",
              "            title=\"Convert this dataframe to an interactive table.\"\n",
              "            style=\"display:none;\">\n",
              "\n",
              "  <svg xmlns=\"http://www.w3.org/2000/svg\" height=\"24px\" viewBox=\"0 -960 960 960\">\n",
              "    <path d=\"M120-120v-720h720v720H120Zm60-500h600v-160H180v160Zm220 220h160v-160H400v160Zm0 220h160v-160H400v160ZM180-400h160v-160H180v160Zm440 0h160v-160H620v160ZM180-180h160v-160H180v160Zm440 0h160v-160H620v160Z\"/>\n",
              "  </svg>\n",
              "    </button>\n",
              "\n",
              "  <style>\n",
              "    .colab-df-container {\n",
              "      display:flex;\n",
              "      gap: 12px;\n",
              "    }\n",
              "\n",
              "    .colab-df-convert {\n",
              "      background-color: #E8F0FE;\n",
              "      border: none;\n",
              "      border-radius: 50%;\n",
              "      cursor: pointer;\n",
              "      display: none;\n",
              "      fill: #1967D2;\n",
              "      height: 32px;\n",
              "      padding: 0 0 0 0;\n",
              "      width: 32px;\n",
              "    }\n",
              "\n",
              "    .colab-df-convert:hover {\n",
              "      background-color: #E2EBFA;\n",
              "      box-shadow: 0px 1px 2px rgba(60, 64, 67, 0.3), 0px 1px 3px 1px rgba(60, 64, 67, 0.15);\n",
              "      fill: #174EA6;\n",
              "    }\n",
              "\n",
              "    .colab-df-buttons div {\n",
              "      margin-bottom: 4px;\n",
              "    }\n",
              "\n",
              "    [theme=dark] .colab-df-convert {\n",
              "      background-color: #3B4455;\n",
              "      fill: #D2E3FC;\n",
              "    }\n",
              "\n",
              "    [theme=dark] .colab-df-convert:hover {\n",
              "      background-color: #434B5C;\n",
              "      box-shadow: 0px 1px 3px 1px rgba(0, 0, 0, 0.15);\n",
              "      filter: drop-shadow(0px 1px 2px rgba(0, 0, 0, 0.3));\n",
              "      fill: #FFFFFF;\n",
              "    }\n",
              "  </style>\n",
              "\n",
              "    <script>\n",
              "      const buttonEl =\n",
              "        document.querySelector('#df-d66b456e-5b86-430d-b0b8-5ffc42190b0d button.colab-df-convert');\n",
              "      buttonEl.style.display =\n",
              "        google.colab.kernel.accessAllowed ? 'block' : 'none';\n",
              "\n",
              "      async function convertToInteractive(key) {\n",
              "        const element = document.querySelector('#df-d66b456e-5b86-430d-b0b8-5ffc42190b0d');\n",
              "        const dataTable =\n",
              "          await google.colab.kernel.invokeFunction('convertToInteractive',\n",
              "                                                    [key], {});\n",
              "        if (!dataTable) return;\n",
              "\n",
              "        const docLinkHtml = 'Like what you see? Visit the ' +\n",
              "          '<a target=\"_blank\" href=https://colab.research.google.com/notebooks/data_table.ipynb>data table notebook</a>'\n",
              "          + ' to learn more about interactive tables.';\n",
              "        element.innerHTML = '';\n",
              "        dataTable['output_type'] = 'display_data';\n",
              "        await google.colab.output.renderOutput(dataTable, element);\n",
              "        const docLink = document.createElement('div');\n",
              "        docLink.innerHTML = docLinkHtml;\n",
              "        element.appendChild(docLink);\n",
              "      }\n",
              "    </script>\n",
              "  </div>\n",
              "\n",
              "\n",
              "<div id=\"df-d3e488ab-7434-4ab5-8291-b60eb9a55906\">\n",
              "  <button class=\"colab-df-quickchart\" onclick=\"quickchart('df-d3e488ab-7434-4ab5-8291-b60eb9a55906')\"\n",
              "            title=\"Suggest charts\"\n",
              "            style=\"display:none;\">\n",
              "\n",
              "<svg xmlns=\"http://www.w3.org/2000/svg\" height=\"24px\"viewBox=\"0 0 24 24\"\n",
              "     width=\"24px\">\n",
              "    <g>\n",
              "        <path d=\"M19 3H5c-1.1 0-2 .9-2 2v14c0 1.1.9 2 2 2h14c1.1 0 2-.9 2-2V5c0-1.1-.9-2-2-2zM9 17H7v-7h2v7zm4 0h-2V7h2v10zm4 0h-2v-4h2v4z\"/>\n",
              "    </g>\n",
              "</svg>\n",
              "  </button>\n",
              "\n",
              "<style>\n",
              "  .colab-df-quickchart {\n",
              "      --bg-color: #E8F0FE;\n",
              "      --fill-color: #1967D2;\n",
              "      --hover-bg-color: #E2EBFA;\n",
              "      --hover-fill-color: #174EA6;\n",
              "      --disabled-fill-color: #AAA;\n",
              "      --disabled-bg-color: #DDD;\n",
              "  }\n",
              "\n",
              "  [theme=dark] .colab-df-quickchart {\n",
              "      --bg-color: #3B4455;\n",
              "      --fill-color: #D2E3FC;\n",
              "      --hover-bg-color: #434B5C;\n",
              "      --hover-fill-color: #FFFFFF;\n",
              "      --disabled-bg-color: #3B4455;\n",
              "      --disabled-fill-color: #666;\n",
              "  }\n",
              "\n",
              "  .colab-df-quickchart {\n",
              "    background-color: var(--bg-color);\n",
              "    border: none;\n",
              "    border-radius: 50%;\n",
              "    cursor: pointer;\n",
              "    display: none;\n",
              "    fill: var(--fill-color);\n",
              "    height: 32px;\n",
              "    padding: 0;\n",
              "    width: 32px;\n",
              "  }\n",
              "\n",
              "  .colab-df-quickchart:hover {\n",
              "    background-color: var(--hover-bg-color);\n",
              "    box-shadow: 0 1px 2px rgba(60, 64, 67, 0.3), 0 1px 3px 1px rgba(60, 64, 67, 0.15);\n",
              "    fill: var(--button-hover-fill-color);\n",
              "  }\n",
              "\n",
              "  .colab-df-quickchart-complete:disabled,\n",
              "  .colab-df-quickchart-complete:disabled:hover {\n",
              "    background-color: var(--disabled-bg-color);\n",
              "    fill: var(--disabled-fill-color);\n",
              "    box-shadow: none;\n",
              "  }\n",
              "\n",
              "  .colab-df-spinner {\n",
              "    border: 2px solid var(--fill-color);\n",
              "    border-color: transparent;\n",
              "    border-bottom-color: var(--fill-color);\n",
              "    animation:\n",
              "      spin 1s steps(1) infinite;\n",
              "  }\n",
              "\n",
              "  @keyframes spin {\n",
              "    0% {\n",
              "      border-color: transparent;\n",
              "      border-bottom-color: var(--fill-color);\n",
              "      border-left-color: var(--fill-color);\n",
              "    }\n",
              "    20% {\n",
              "      border-color: transparent;\n",
              "      border-left-color: var(--fill-color);\n",
              "      border-top-color: var(--fill-color);\n",
              "    }\n",
              "    30% {\n",
              "      border-color: transparent;\n",
              "      border-left-color: var(--fill-color);\n",
              "      border-top-color: var(--fill-color);\n",
              "      border-right-color: var(--fill-color);\n",
              "    }\n",
              "    40% {\n",
              "      border-color: transparent;\n",
              "      border-right-color: var(--fill-color);\n",
              "      border-top-color: var(--fill-color);\n",
              "    }\n",
              "    60% {\n",
              "      border-color: transparent;\n",
              "      border-right-color: var(--fill-color);\n",
              "    }\n",
              "    80% {\n",
              "      border-color: transparent;\n",
              "      border-right-color: var(--fill-color);\n",
              "      border-bottom-color: var(--fill-color);\n",
              "    }\n",
              "    90% {\n",
              "      border-color: transparent;\n",
              "      border-bottom-color: var(--fill-color);\n",
              "    }\n",
              "  }\n",
              "</style>\n",
              "\n",
              "  <script>\n",
              "    async function quickchart(key) {\n",
              "      const quickchartButtonEl =\n",
              "        document.querySelector('#' + key + ' button');\n",
              "      quickchartButtonEl.disabled = true;  // To prevent multiple clicks.\n",
              "      quickchartButtonEl.classList.add('colab-df-spinner');\n",
              "      try {\n",
              "        const charts = await google.colab.kernel.invokeFunction(\n",
              "            'suggestCharts', [key], {});\n",
              "      } catch (error) {\n",
              "        console.error('Error during call to suggestCharts:', error);\n",
              "      }\n",
              "      quickchartButtonEl.classList.remove('colab-df-spinner');\n",
              "      quickchartButtonEl.classList.add('colab-df-quickchart-complete');\n",
              "    }\n",
              "    (() => {\n",
              "      let quickchartButtonEl =\n",
              "        document.querySelector('#df-d3e488ab-7434-4ab5-8291-b60eb9a55906 button');\n",
              "      quickchartButtonEl.style.display =\n",
              "        google.colab.kernel.accessAllowed ? 'block' : 'none';\n",
              "    })();\n",
              "  </script>\n",
              "</div>\n",
              "\n",
              "  <div id=\"id_d2d893dc-60d6-43a5-b15d-4d766cf9f1ba\">\n",
              "    <style>\n",
              "      .colab-df-generate {\n",
              "        background-color: #E8F0FE;\n",
              "        border: none;\n",
              "        border-radius: 50%;\n",
              "        cursor: pointer;\n",
              "        display: none;\n",
              "        fill: #1967D2;\n",
              "        height: 32px;\n",
              "        padding: 0 0 0 0;\n",
              "        width: 32px;\n",
              "      }\n",
              "\n",
              "      .colab-df-generate:hover {\n",
              "        background-color: #E2EBFA;\n",
              "        box-shadow: 0px 1px 2px rgba(60, 64, 67, 0.3), 0px 1px 3px 1px rgba(60, 64, 67, 0.15);\n",
              "        fill: #174EA6;\n",
              "      }\n",
              "\n",
              "      [theme=dark] .colab-df-generate {\n",
              "        background-color: #3B4455;\n",
              "        fill: #D2E3FC;\n",
              "      }\n",
              "\n",
              "      [theme=dark] .colab-df-generate:hover {\n",
              "        background-color: #434B5C;\n",
              "        box-shadow: 0px 1px 3px 1px rgba(0, 0, 0, 0.15);\n",
              "        filter: drop-shadow(0px 1px 2px rgba(0, 0, 0, 0.3));\n",
              "        fill: #FFFFFF;\n",
              "      }\n",
              "    </style>\n",
              "    <button class=\"colab-df-generate\" onclick=\"generateWithVariable('exhaust_gases')\"\n",
              "            title=\"Generate code using this dataframe.\"\n",
              "            style=\"display:none;\">\n",
              "\n",
              "  <svg xmlns=\"http://www.w3.org/2000/svg\" height=\"24px\"viewBox=\"0 0 24 24\"\n",
              "       width=\"24px\">\n",
              "    <path d=\"M7,19H8.4L18.45,9,17,7.55,7,17.6ZM5,21V16.75L18.45,3.32a2,2,0,0,1,2.83,0l1.4,1.43a1.91,1.91,0,0,1,.58,1.4,1.91,1.91,0,0,1-.58,1.4L9.25,21ZM18.45,9,17,7.55Zm-12,3A5.31,5.31,0,0,0,4.9,8.1,5.31,5.31,0,0,0,1,6.5,5.31,5.31,0,0,0,4.9,4.9,5.31,5.31,0,0,0,6.5,1,5.31,5.31,0,0,0,8.1,4.9,5.31,5.31,0,0,0,12,6.5,5.46,5.46,0,0,0,6.5,12Z\"/>\n",
              "  </svg>\n",
              "    </button>\n",
              "    <script>\n",
              "      (() => {\n",
              "      const buttonEl =\n",
              "        document.querySelector('#id_d2d893dc-60d6-43a5-b15d-4d766cf9f1ba button.colab-df-generate');\n",
              "      buttonEl.style.display =\n",
              "        google.colab.kernel.accessAllowed ? 'block' : 'none';\n",
              "\n",
              "      buttonEl.onclick = () => {\n",
              "        google.colab.notebook.generateWithVariable('exhaust_gases');\n",
              "      }\n",
              "      })();\n",
              "    </script>\n",
              "  </div>\n",
              "\n",
              "    </div>\n",
              "  </div>\n"
            ],
            "application/vnd.google.colaboratory.intrinsic+json": {
              "type": "dataframe",
              "variable_name": "exhaust_gases",
              "summary": "{\n  \"name\": \"exhaust_gases\",\n  \"rows\": 5,\n  \"fields\": [\n    {\n      \"column\": \"Coal Flow rate [kg/h]\",\n      \"properties\": {\n        \"dtype\": \"number\",\n        \"std\": 227.66905806455122,\n        \"min\": 120.0,\n        \"max\": 651.0,\n        \"num_unique_values\": 5,\n        \"samples\": [\n          140.0,\n          651.0,\n          182.0\n        ],\n        \"semantic_type\": \"\",\n        \"description\": \"\"\n      }\n    },\n    {\n      \"column\": \"CO2 Flow rate [kg/h]\",\n      \"properties\": {\n        \"dtype\": \"number\",\n        \"std\": 547.7535401786652,\n        \"min\": 288.7104,\n        \"max\": 1566.25392,\n        \"num_unique_values\": 5,\n        \"samples\": [\n          336.8288,\n          1566.25392,\n          437.87744000000004\n        ],\n        \"semantic_type\": \"\",\n        \"description\": \"\"\n      }\n    },\n    {\n      \"column\": \"Chimney gases [kg/h]\",\n      \"properties\": {\n        \"dtype\": \"number\",\n        \"std\": 3474.36117289803,\n        \"min\": 1831.2692304,\n        \"max\": 9934.63557492,\n        \"num_unique_values\": 5,\n        \"samples\": [\n          2136.4807688,\n          9934.63557492,\n          2777.42499944\n        ],\n        \"semantic_type\": \"\",\n        \"description\": \"\"\n      }\n    }\n  ]\n}"
            }
          },
          "metadata": {},
          "execution_count": 7
        }
      ]
    },
    {
      "cell_type": "markdown",
      "source": [
        "## Volumetric flow aproximation (ideal gas)\n"
      ],
      "metadata": {
        "id": "0ZvjawbTeimt"
      }
    },
    {
      "cell_type": "code",
      "source": [
        "total_gases_moles= sum(list(product_moles_2.values()))-product_moles_2['H2O']+exhaust_gases_mass['H2O']*(1/molar_mass['H2O'])\n",
        "\n",
        "# Molar fraction [kmol/kmol]\n",
        "molar_fractions=dict(zip([x for x in list(product_moles_2.keys())],[product_moles_2[x]/total_gases_moles for x in list(product_moles_2.keys())]))\n",
        "molar_fractions['H2O']=(exhaust_gases_mass['H2O']*(1/molar_mass['H2O']))/total_gases_moles\n",
        "M_gases=sum([molar_fractions[x]*molar_mass[x] for x in list(molar_fractions.keys())])\n",
        "\n",
        "#Universal ideal gas constant in kJ/kmol*K\n",
        "R_u=8.315\n",
        "\n",
        "#Volumetric Flow\n",
        "exhaust_gases['Chimney gases Temp[K]']=[523.5,445,445,445,445]\n",
        "exhaust_gases['Chimney gases Pressure[kPa]']=[79.74,79.74,79.74,79.74,79.74]\n",
        "exhaust_gases['Chimney gases volumetric Flow [m3/h]']=[(exhaust_gases['Chimney gases [kg/h]'][x]*R_u*exhaust_gases['Chimney gases Temp[K]'][x])/(M_gases*exhaust_gases['Chimney gases Pressure[kPa]'][x]) for x in list(exhaust_gases.index)]\n",
        "\n",
        "exhaust_gases.to_excel('ExhaustGases.xlsx')\n",
        "files.download('ExhaustGases.xlsx')\n"
      ],
      "metadata": {
        "colab": {
          "base_uri": "https://localhost:8080/",
          "height": 17
        },
        "id": "7bv-J8QVePGY",
        "outputId": "443e27bf-8c62-4a15-e4a8-e33df3e6cc2c"
      },
      "execution_count": null,
      "outputs": [
        {
          "output_type": "display_data",
          "data": {
            "text/plain": [
              "<IPython.core.display.Javascript object>"
            ],
            "application/javascript": [
              "\n",
              "    async function download(id, filename, size) {\n",
              "      if (!google.colab.kernel.accessAllowed) {\n",
              "        return;\n",
              "      }\n",
              "      const div = document.createElement('div');\n",
              "      const label = document.createElement('label');\n",
              "      label.textContent = `Downloading \"${filename}\": `;\n",
              "      div.appendChild(label);\n",
              "      const progress = document.createElement('progress');\n",
              "      progress.max = size;\n",
              "      div.appendChild(progress);\n",
              "      document.body.appendChild(div);\n",
              "\n",
              "      const buffers = [];\n",
              "      let downloaded = 0;\n",
              "\n",
              "      const channel = await google.colab.kernel.comms.open(id);\n",
              "      // Send a message to notify the kernel that we're ready.\n",
              "      channel.send({})\n",
              "\n",
              "      for await (const message of channel.messages) {\n",
              "        // Send a message to notify the kernel that we're ready.\n",
              "        channel.send({})\n",
              "        if (message.buffers) {\n",
              "          for (const buffer of message.buffers) {\n",
              "            buffers.push(buffer);\n",
              "            downloaded += buffer.byteLength;\n",
              "            progress.value = downloaded;\n",
              "          }\n",
              "        }\n",
              "      }\n",
              "      const blob = new Blob(buffers, {type: 'application/binary'});\n",
              "      const a = document.createElement('a');\n",
              "      a.href = window.URL.createObjectURL(blob);\n",
              "      a.download = filename;\n",
              "      div.appendChild(a);\n",
              "      a.click();\n",
              "      div.remove();\n",
              "    }\n",
              "  "
            ]
          },
          "metadata": {}
        },
        {
          "output_type": "display_data",
          "data": {
            "text/plain": [
              "<IPython.core.display.Javascript object>"
            ],
            "application/javascript": [
              "download(\"download_8c0a8113-c1ac-4e43-8869-87030154aa4c\", \"ExhaustGases.xlsx\", 5365)"
            ]
          },
          "metadata": {}
        }
      ]
    },
    {
      "cell_type": "code",
      "source": [
        "#Volumetric flow real (based on june Isokinetic inform)[m3/h]\n",
        "volumetric_flow_real=dict(zip([x for x in list(exhaust_gases.index)],list(3338.1*np.ones(5))))\n",
        "\n",
        "#Error respect by june Isokinetic inform [%]\n",
        "Volumetric_flow_error=dict(zip([x for x in list(exhaust_gases.index)],[np.abs(100*(exhaust_gases['Chimney gases volumetric Flow [m3/h]'][x]-volumetric_flow_real[x])/volumetric_flow_real[x]) for x in list(volumetric_flow_real.keys())]))\n"
      ],
      "metadata": {
        "id": "ob-2FwF3AcIN"
      },
      "execution_count": null,
      "outputs": []
    },
    {
      "cell_type": "code",
      "source": [
        "Air_per_kgCoal=1.8*reagent_moles[\"a_t\"]*molar_mass['Air']*4.76"
      ],
      "metadata": {
        "id": "dsoSjWRZE8BW"
      },
      "execution_count": null,
      "outputs": []
    },
    {
      "cell_type": "code",
      "source": [
        "4+0.746*0.15"
      ],
      "metadata": {
        "colab": {
          "base_uri": "https://localhost:8080/"
        },
        "id": "-abrO_EvLuVf",
        "outputId": "2db04756-cf65-470e-f296-7dc9e4866933"
      },
      "execution_count": null,
      "outputs": [
        {
          "output_type": "execute_result",
          "data": {
            "text/plain": [
              "4.1119"
            ]
          },
          "metadata": {},
          "execution_count": 1
        }
      ]
    },
    {
      "cell_type": "code",
      "source": [
        "price =1047.23"
      ],
      "metadata": {
        "id": "tNy2mDqZNSW7"
      },
      "execution_count": null,
      "outputs": []
    },
    {
      "cell_type": "code",
      "source": [
        "4.1119*1047.23"
      ],
      "metadata": {
        "colab": {
          "base_uri": "https://localhost:8080/"
        },
        "id": "LhEn-JPdNspq",
        "outputId": "416e291b-1dbd-42d5-85c0-9e69da8e9d05"
      },
      "execution_count": null,
      "outputs": [
        {
          "output_type": "execute_result",
          "data": {
            "text/plain": [
              "4306.105037"
            ]
          },
          "metadata": {},
          "execution_count": 3
        }
      ]
    },
    {
      "cell_type": "code",
      "source": [
        "=4306.105037*4"
      ],
      "metadata": {
        "colab": {
          "base_uri": "https://localhost:8080/",
          "height": 106
        },
        "id": "oDF_B6wnODBt",
        "outputId": "360a7410-b633-4d5c-97ae-44c5352bb297"
      },
      "execution_count": null,
      "outputs": [
        {
          "output_type": "error",
          "ename": "SyntaxError",
          "evalue": "invalid syntax (<ipython-input-4-01ab6f7a01c2>, line 1)",
          "traceback": [
            "\u001b[0;36m  File \u001b[0;32m\"<ipython-input-4-01ab6f7a01c2>\"\u001b[0;36m, line \u001b[0;32m1\u001b[0m\n\u001b[0;31m    =4306.105037*4\u001b[0m\n\u001b[0m    ^\u001b[0m\n\u001b[0;31mSyntaxError\u001b[0m\u001b[0;31m:\u001b[0m invalid syntax\n"
          ]
        }
      ]
    },
    {
      "cell_type": "code",
      "source": [
        "4306.105037*4"
      ],
      "metadata": {
        "id": "D7bpWgtxVwYZ",
        "outputId": "42ab2c68-3cd5-4532-8e49-514af978f0dc",
        "colab": {
          "base_uri": "https://localhost:8080/"
        }
      },
      "execution_count": null,
      "outputs": [
        {
          "output_type": "execute_result",
          "data": {
            "text/plain": [
              "17224.420148"
            ]
          },
          "metadata": {},
          "execution_count": 5
        }
      ]
    },
    {
      "cell_type": "code",
      "source": [
        "tot = 0\n",
        "for i in [5, 4, 3, 2, 1] :\n",
        "    tot = tot + 1\n",
        "print(tot)"
      ],
      "metadata": {
        "id": "qADneLCNVysx",
        "colab": {
          "base_uri": "https://localhost:8080/"
        },
        "outputId": "99def155-58e1-4a88-8da8-3f97b7c2c853"
      },
      "execution_count": null,
      "outputs": [
        {
          "output_type": "stream",
          "name": "stdout",
          "text": [
            "5\n"
          ]
        }
      ]
    },
    {
      "cell_type": "code",
      "source": [
        "friends = ['Joseph', 'Glenn', 'Sally']\n",
        "for friend in friends :\n",
        "     print('Happy New Year:',  friend)\n",
        "print('Done!')"
      ],
      "metadata": {
        "colab": {
          "base_uri": "https://localhost:8080/"
        },
        "id": "Gh8n3g8Ekfuy",
        "outputId": "b69394a5-ca86-4cc3-86c8-2a876b7fbf0e"
      },
      "execution_count": null,
      "outputs": [
        {
          "output_type": "stream",
          "name": "stdout",
          "text": [
            "Happy New Year: Joseph\n",
            "Happy New Year: Glenn\n",
            "Happy New Year: Sally\n",
            "Done!\n"
          ]
        }
      ]
    },
    {
      "cell_type": "code",
      "source": [
        "smallest_so_far = -1\n",
        "for the_num in [9, 41, 12, 3, 74, 15] :\n",
        "   if the_num < smallest_so_far :\n",
        "      smallest_so_far = the_num\n",
        "print(smallest_so_far)"
      ],
      "metadata": {
        "colab": {
          "base_uri": "https://localhost:8080/"
        },
        "id": "kEitQ3vak-45",
        "outputId": "4144f978-e222-4c05-9f81-37ed14d5b15d"
      },
      "execution_count": null,
      "outputs": [
        {
          "output_type": "stream",
          "name": "stdout",
          "text": [
            "-1\n"
          ]
        }
      ]
    },
    {
      "cell_type": "code",
      "source": [
        "x = 'From marquard@uct.ac.za'\n",
        "print(x[8])\n"
      ],
      "metadata": {
        "id": "oJx5NWAblPOJ",
        "colab": {
          "base_uri": "https://localhost:8080/"
        },
        "outputId": "fefc7792-d2bd-4e40-cd98-2b2fb4986de8"
      },
      "execution_count": null,
      "outputs": [
        {
          "output_type": "stream",
          "name": "stdout",
          "text": [
            "q\n"
          ]
        }
      ]
    },
    {
      "cell_type": "code",
      "source": [
        "print(x[15:18])"
      ],
      "metadata": {
        "colab": {
          "base_uri": "https://localhost:8080/"
        },
        "id": "Kbn6SwXlKD6X",
        "outputId": "5f2d7eb1-34c7-49e0-f222-951486a5c259"
      },
      "execution_count": null,
      "outputs": [
        {
          "output_type": "stream",
          "name": "stdout",
          "text": [
            "ct.\n"
          ]
        }
      ]
    },
    {
      "cell_type": "code",
      "source": [
        "\n",
        "\n",
        "print(x[14:17])"
      ],
      "metadata": {
        "colab": {
          "base_uri": "https://localhost:8080/"
        },
        "id": "bxFgKqSiKRSc",
        "outputId": "d2cb1904-6716-4247-dbb1-a959759dbe2d"
      },
      "execution_count": null,
      "outputs": [
        {
          "output_type": "stream",
          "name": "stdout",
          "text": [
            "uct\n"
          ]
        }
      ]
    },
    {
      "cell_type": "code",
      "source": [
        "greet = 'Hello Bob'\n",
        "print(greet.upper())"
      ],
      "metadata": {
        "colab": {
          "base_uri": "https://localhost:8080/"
        },
        "id": "cl_lOECdKSkc",
        "outputId": "228516b5-7caf-477e-a3b3-5b4d2c4090dd"
      },
      "execution_count": null,
      "outputs": [
        {
          "output_type": "stream",
          "name": "stdout",
          "text": [
            "HELLO BOB\n"
          ]
        }
      ]
    },
    {
      "cell_type": "code",
      "source": [
        "'Hello Bob'.join()"
      ],
      "metadata": {
        "colab": {
          "base_uri": "https://localhost:8080/",
          "height": 141
        },
        "id": "KOW-JYZmKk9O",
        "outputId": "e4e4f726-2307-4ee3-9f7d-72584e903d25"
      },
      "execution_count": null,
      "outputs": [
        {
          "output_type": "error",
          "ename": "TypeError",
          "evalue": "str.join() takes exactly one argument (0 given)",
          "traceback": [
            "\u001b[0;31m---------------------------------------------------------------------------\u001b[0m",
            "\u001b[0;31mTypeError\u001b[0m                                 Traceback (most recent call last)",
            "\u001b[0;32m<ipython-input-10-cd017a2a978d>\u001b[0m in \u001b[0;36m<cell line: 1>\u001b[0;34m()\u001b[0m\n\u001b[0;32m----> 1\u001b[0;31m \u001b[0;34m'Hello Bob'\u001b[0m\u001b[0;34m.\u001b[0m\u001b[0mjoin\u001b[0m\u001b[0;34m(\u001b[0m\u001b[0;34m)\u001b[0m\u001b[0;34m\u001b[0m\u001b[0;34m\u001b[0m\u001b[0m\n\u001b[0m",
            "\u001b[0;31mTypeError\u001b[0m: str.join() takes exactly one argument (0 given)"
          ]
        }
      ]
    },
    {
      "cell_type": "code",
      "source": [
        "data = 'From stephen.marquard@uct.ac.za Sat Jan  5 09:14:16 2008'\n",
        "pos = data.find('.')\n",
        "print(data[pos:pos+3])"
      ],
      "metadata": {
        "colab": {
          "base_uri": "https://localhost:8080/"
        },
        "id": "gpYTARvgKtmq",
        "outputId": "dd7fa669-4566-4d9a-9f1c-61ebe067f2b4"
      },
      "execution_count": null,
      "outputs": [
        {
          "output_type": "stream",
          "name": "stdout",
          "text": [
            ".ma\n"
          ]
        }
      ]
    },
    {
      "cell_type": "code",
      "source": [],
      "metadata": {
        "id": "aA9igkGbLfKL"
      },
      "execution_count": null,
      "outputs": []
    }
  ]
}