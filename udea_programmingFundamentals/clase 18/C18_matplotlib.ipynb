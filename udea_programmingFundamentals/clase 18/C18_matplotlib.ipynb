{
 "cells": [
  {
   "cell_type": "markdown",
   "metadata": {},
   "source": [
    "# Introducción a la librería Matplotlib"
   ]
  },
  {
   "cell_type": "markdown",
   "metadata": {},
   "source": [
    "Se concibió para reproducir un ambiente de graficación similar al de MATLAB en terminos de los resultados gráficos y de la sintaxis\n",
    "\n",
    "_hppt://matplotlib.org_\n",
    "\n",
    "- Uso fácil\n",
    "- Desarrollo gradual y visualización interactiva\n",
    "- Texto y expresiones en LaTeX\n",
    "- Control avanzado sobre elementos gráficos\n",
    "- Exportación en múltiples formatos: PNG, PDF, SVG, EPS\n",
    "\n",
    "librería gráfica que permite gestionar elementos gráficos mediante programación\n",
    "\n",
    "--> Se puede controlar completamente el resultado gráfico.\n",
    "\n",
    "--> Permite el manejo de datos con reproductibilidad en vario ambieste de trabajo.\n",
    "\n",
    "--> Permite conservar uniformidad en gráficos cuando se cambian los datos.\n"
   ]
  },
  {
   "cell_type": "code",
   "execution_count": 4,
   "metadata": {
    "scrolled": true
   },
   "outputs": [],
   "source": [
    "# Importación de librerías\n",
    "import matplotlib.pyplot as plt\n",
    "import numpy as np\n",
    "# %matplotlib # Se muestran las gráficas como salida de las celdas\n",
    "%matplotlib notebook \n",
    "# Se muestran las gráficas con un menú para interacción"
   ]
  },
  {
   "cell_type": "markdown",
   "metadata": {},
   "source": [
    "## Partes de una figura en matplotlib\n",
    "\n",
    "<img src='objetos_figura_grafica_ejes.png' width =400 height=300>"
   ]
  },
  {
   "cell_type": "markdown",
   "metadata": {},
   "source": [
    "<img src='partes_figura_matplotlib.png' width =400 height=300>"
   ]
  },
  {
   "cell_type": "markdown",
   "metadata": {},
   "source": [
    "## Formas de uso\n",
    "\n",
    "Dos formas:\n",
    "- Interfase orientada a objetos: se crean explícitamente las figuras y los ejes, y se grfica maediante métodos de estos objetos.\n",
    "\n",
    "- Interfase de pyplot: Se usa pyplot par crer las figuras y ejes de forma automática así como sus funciones para graficar"
   ]
  },
  {
   "cell_type": "code",
   "execution_count": null,
   "metadata": {
    "scrolled": false
   },
   "outputs": [],
   "source": [
    "plt.plot([1,2,3,4])"
   ]
  },
  {
   "cell_type": "code",
   "execution_count": null,
   "metadata": {
    "scrolled": true
   },
   "outputs": [],
   "source": [
    "# Atributos como cadenas de caractere\n",
    "plt.plot([1,2,3,4],[1,3,9,16],'g-.')\n",
    "plt.title('Nuestra primera gráfica en matplotlib')"
   ]
  },
  {
   "cell_type": "code",
   "execution_count": null,
   "metadata": {
    "scrolled": true
   },
   "outputs": [],
   "source": [
    "plt.plot?"
   ]
  },
  {
   "cell_type": "code",
   "execution_count": null,
   "metadata": {
    "scrolled": true
   },
   "outputs": [],
   "source": [
    "# Compatibilidad con Numpy\n",
    "t = np.arange(0,2.5,0.05)\n",
    "y1 = np.sin(np.pi*t)\n",
    "y2 = np.sin(np.pi*t + np.pi/2)\n",
    "y3 = np.sin(np.pi*t-np.pi/2)\n",
    "# Graficación multiple:\n",
    "plt.plot(t,y1,'b--',t,y2,'g',t,y3,'r-.')"
   ]
  },
  {
   "cell_type": "code",
   "execution_count": null,
   "metadata": {
    "scrolled": true
   },
   "outputs": [],
   "source": [
    "# Modificación de las gráficas con kwargs: Keyword arguments\n",
    "# plt.plot(*args,**kwargs)\n",
    "plt.plot(t,y1,linewidth =3.0, color ='green', marker='s', markerfacecolor ='black',markeredgecolor='red')"
   ]
  },
  {
   "cell_type": "code",
   "execution_count": null,
   "metadata": {
    "scrolled": true
   },
   "outputs": [],
   "source": [
    "# Varias gráficas (axes) dentro de una misma figura (figure)\n",
    "t = np.arange(0,5,0.05)\n",
    "y1 = np.sin(2*np.pi*t)\n",
    "y2 = np.cos(2*np.pi*t)\n",
    "plt.subplot(211)\n",
    "plt.plot(t,y1,'b-.')\n",
    "plt.subplot(212)\n",
    "plt.plot(t,y2,'r--')"
   ]
  },
  {
   "cell_type": "code",
   "execution_count": null,
   "metadata": {
    "scrolled": true
   },
   "outputs": [],
   "source": [
    "plt.subplot(131)\n",
    "plt.plot(t,y1,'b-.')\n",
    "plt.title('$y_1=\\sin(2 \\pi t)$')\n",
    "plt.xlabel('t [s]')\n",
    "plt.ylabel('$y_1$')\n",
    "plt.subplot(133)\n",
    "plt.plot(t,y2,'r--')\n",
    "plt.title('$y_1=\\cos(2 \\pi t)$')\n",
    "plt.xlabel('t [s]')\n",
    "plt.ylabel('$y_2$')"
   ]
  },
  {
   "cell_type": "code",
   "execution_count": null,
   "metadata": {},
   "outputs": [],
   "source": [
    "plt.plot([1,2,3,4],[1,3,9,16],'ro', label ='cuadrados')\n",
    "plt.title('Valores al cuadrado', fontsize = 18, fontname ='Times New Roman')\n",
    "plt.xlabel('Contadores',color ='gray')\n",
    "plt.ylabel('valores al cuadrado', color ='green')\n",
    "plt.axis([0,5,0,70]) # [x_min,x_max,y_min,y_max]\n",
    "# Etiquetas en los datos\n",
    "plt.text(0.7,1.5,'Primero')\n",
    "plt.text(1.7,3.5,'Segundo')\n",
    "plt.text(2.7,9.5,'Tercero')\n",
    "plt.text(3.7,16.5,'Cuarto')\n",
    "plt.text(1,13,'$y= x^2$', fontsize=20, bbox={'facecolor':'yellow', 'alpha':0.3})\n",
    "plt.grid()\n",
    "plt.plot([1,2,3,4],[1,8,27,64],'kD', label ='cubos')\n",
    "plt.legend(loc ='best')\n",
    "plt.savefig('Figura_1.png',dpi=300)"
   ]
  },
  {
   "cell_type": "markdown",
   "metadata": {},
   "source": [
    "## Tipos de gráficas\n",
    "\n",
    "### Curvas o gráficas de líneas"
   ]
  },
  {
   "cell_type": "code",
   "execution_count": null,
   "metadata": {},
   "outputs": [],
   "source": [
    "x = np.arange(-2*np.pi,2*np.pi, 0.01)\n",
    "y= np.sin(3*x) / x\n",
    "y2= np.sin(2*x) / x\n",
    "y3= np.sin(x) / x\n",
    "fig,ax= plt.subplots(figsize=(int(4*1.7),4))\n",
    "ax.plot(x,y,x,y2,x,y3)\n",
    "plt.legend(['y','$y_1$','$y_2$'])\n",
    "# Cambio de los marcadores\n",
    "plt.xticks([-2*np.pi,-np.pi,0,np.pi,2*np.pi],[r'$-2\\pi$',r'$-\\pi$',r'$0$',r'$\\pi$',r'$2\\pi$'])\n",
    "plt.yticks([-1,0,1,2,3],[r'$-1$',r'$0$',r'$+1$',r'$+2$',r'$+3$'])"
   ]
  },
  {
   "cell_type": "code",
   "execution_count": null,
   "metadata": {},
   "outputs": [],
   "source": [
    " x = np.arange(-2*np.pi,2*np.pi, 0.01)\n",
    "y= np.sin(3*x) / x\n",
    "y2= np.sin(2*x) / x\n",
    "y3= np.sin(x) / x\n",
    "fig,ax= plt.subplots(figsize=(int(4*1.7),4))\n",
    "ax.plot(x,y,x,y2,x,y3)\n",
    "plt.legend(['y','$y_1$','$y_2$'])\n",
    "# Cambio de los marcadores\n",
    "plt.xticks([-2*np.pi,-np.pi,0,np.pi,2*np.pi],[r'$-2\\pi$',r'$-\\pi$',r'$0$',r'$\\pi$',r'$2\\pi$'])\n",
    "plt.yticks([-1,0,1,2,3],[r'$-1$',r'$0$',r'$+1$',r'$+2$',r'$+3$'])\n",
    "ax1 = plt.gca()\n",
    "ax1.spines['right'].set_color('none')\n",
    "ax1.spines['top'].set_color('none')\n",
    "ax1.xaxis.set_ticks_position('bottom')\n",
    "ax1.spines['bottom'].set_position(('data',0))\n",
    "ax1.yaxis.set_ticks_position('left')\n",
    "ax1.spines['left'].set_position(('data',0))"
   ]
  },
  {
   "cell_type": "code",
   "execution_count": 8,
   "metadata": {},
   "outputs": [
    {
     "data": {
      "text/plain": [
       "<matplotlib.legend.Legend at 0x990e688>"
      ]
     },
     "execution_count": 8,
     "metadata": {},
     "output_type": "execute_result"
    },
    {
     "data": {
      "image/png": "[encoded data removed]",
      "text/plain": [
       "<Figure size 432x288 with 1 Axes>"
      ]
     },
     "metadata": {
      "needs_background": "light"
     },
     "output_type": "display_data"
    }
   ],
   "source": [
    "# Gráficas de líneas con pandas\n",
    "import pandas as pd\n",
    "datos = {'serie 1':[1,3,4,3,5],'serie 2':[2,4,5,2,4],'serie 3':[3,2,3,1,3]}\n",
    "df=pd.DataFrame(datos)\n",
    "x =np.arange(5)\n",
    "plt.axis([0,5,0,7])\n",
    "plt.plot(x,df)\n",
    "plt.legend(datos,loc='best')"
   ]
  },
  {
   "cell_type": "code",
   "execution_count": 2,
   "metadata": {},
   "outputs": [
    {
     "data": {
      "text/html": [
       "<div>\n",
       "<style scoped>\n",
       "    .dataframe tbody tr th:only-of-type {\n",
       "        vertical-align: middle;\n",
       "    }\n",
       "\n",
       "    .dataframe tbody tr th {\n",
       "        vertical-align: top;\n",
       "    }\n",
       "\n",
       "    .dataframe thead th {\n",
       "        text-align: right;\n",
       "    }\n",
       "</style>\n",
       "<table border=\"1\" class=\"dataframe\">\n",
       "  <thead>\n",
       "    <tr style=\"text-align: right;\">\n",
       "      <th></th>\n",
       "      <th>serie 1</th>\n",
       "      <th>serie 2</th>\n",
       "      <th>serie 3</th>\n",
       "    </tr>\n",
       "  </thead>\n",
       "  <tbody>\n",
       "    <tr>\n",
       "      <td>0</td>\n",
       "      <td>1</td>\n",
       "      <td>2</td>\n",
       "      <td>3</td>\n",
       "    </tr>\n",
       "    <tr>\n",
       "      <td>1</td>\n",
       "      <td>3</td>\n",
       "      <td>4</td>\n",
       "      <td>2</td>\n",
       "    </tr>\n",
       "    <tr>\n",
       "      <td>2</td>\n",
       "      <td>4</td>\n",
       "      <td>5</td>\n",
       "      <td>3</td>\n",
       "    </tr>\n",
       "    <tr>\n",
       "      <td>3</td>\n",
       "      <td>3</td>\n",
       "      <td>2</td>\n",
       "      <td>1</td>\n",
       "    </tr>\n",
       "    <tr>\n",
       "      <td>4</td>\n",
       "      <td>5</td>\n",
       "      <td>4</td>\n",
       "      <td>3</td>\n",
       "    </tr>\n",
       "  </tbody>\n",
       "</table>\n",
       "</div>"
      ],
      "text/plain": [
       "   serie 1  serie 2  serie 3\n",
       "0        1        2        3\n",
       "1        3        4        2\n",
       "2        4        5        3\n",
       "3        3        2        1\n",
       "4        5        4        3"
      ]
     },
     "execution_count": 2,
     "metadata": {},
     "output_type": "execute_result"
    }
   ],
   "source": [
    "df"
   ]
  },
  {
   "cell_type": "code",
   "execution_count": null,
   "metadata": {},
   "outputs": [],
   "source": []
  }
 ],
 "metadata": {
  "kernelspec": {
   "display_name": "Python 3",
   "language": "python",
   "name": "python3"
  },
  "language_info": {
   "codemirror_mode": {
    "name": "ipython",
    "version": 3
   },
   "file_extension": ".py",
   "mimetype": "text/x-python",
   "name": "python",
   "nbconvert_exporter": "python",
   "pygments_lexer": "ipython3",
   "version": "3.7.4"
  }
 },
 "nbformat": 4,
 "nbformat_minor": 2
}
