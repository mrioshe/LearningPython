{
 "cells": [
  {
   "cell_type": "markdown",
   "metadata": {},
   "source": [
    "## Números complejos"
   ]
  },
  {
   "cell_type": "markdown",
   "metadata": {},
   "source": [
    "<img src=\"numeros_complejos.png\" width='400' height='200'>"
   ]
  },
  {
   "cell_type": "code",
   "execution_count": null,
   "metadata": {},
   "outputs": [],
   "source": [
    "Z_1 = complex(3, 4)"
   ]
  },
  {
   "cell_type": "code",
   "execution_count": 6,
   "metadata": {},
   "outputs": [
    {
     "data": {
      "text/plain": [
       "complex"
      ]
     },
     "execution_count": 6,
     "metadata": {},
     "output_type": "execute_result"
    }
   ],
   "source": [
    "type(Z_1)"
   ]
  },
  {
   "cell_type": "code",
   "execution_count": null,
   "metadata": {},
   "outputs": [],
   "source": [
    "Z_2 = 2 + 5 * 1j"
   ]
  },
  {
   "cell_type": "code",
   "execution_count": 7,
   "metadata": {},
   "outputs": [
    {
     "data": {
      "text/plain": [
       "complex"
      ]
     },
     "execution_count": 7,
     "metadata": {},
     "output_type": "execute_result"
    }
   ],
   "source": [
    "type(Z_2)"
   ]
  },
  {
   "cell_type": "code",
   "execution_count": 8,
   "metadata": {},
   "outputs": [
    {
     "data": {
      "text/plain": [
       "(5+9j)"
      ]
     },
     "execution_count": 8,
     "metadata": {},
     "output_type": "execute_result"
    }
   ],
   "source": [
    "Z_1 + Z_2"
   ]
  },
  {
   "cell_type": "code",
   "execution_count": 9,
   "metadata": {},
   "outputs": [
    {
     "data": {
      "text/plain": [
       "(0.896551724137931-0.24137931034482757j)"
      ]
     },
     "execution_count": 9,
     "metadata": {},
     "output_type": "execute_result"
    }
   ],
   "source": [
    "Z_1 / Z_2"
   ]
  },
  {
   "cell_type": "code",
   "execution_count": 10,
   "metadata": {},
   "outputs": [
    {
     "data": {
      "text/plain": [
       "(3-4j)"
      ]
     },
     "execution_count": 10,
     "metadata": {},
     "output_type": "execute_result"
    }
   ],
   "source": [
    "Z_1.conjugate()"
   ]
  },
  {
   "cell_type": "code",
   "execution_count": null,
   "metadata": {},
   "outputs": [],
   "source": [
    "Z_2"
   ]
  },
  {
   "cell_type": "code",
   "execution_count": 11,
   "metadata": {},
   "outputs": [
    {
     "data": {
      "text/plain": [
       "5.0"
      ]
     },
     "execution_count": 11,
     "metadata": {},
     "output_type": "execute_result"
    }
   ],
   "source": [
    "Z_2.imag"
   ]
  },
  {
   "cell_type": "code",
   "execution_count": null,
   "metadata": {},
   "outputs": [],
   "source": [
    "import cmath"
   ]
  },
  {
   "cell_type": "code",
   "execution_count": null,
   "metadata": {},
   "outputs": [],
   "source": [
    "cmath.polar(Z_2)"
   ]
  },
  {
   "cell_type": "markdown",
   "metadata": {},
   "source": [
    "## Ejemplo 1"
   ]
  },
  {
   "cell_type": "markdown",
   "metadata": {},
   "source": [
    "**algoritmo** Nota final de un curso"
   ]
  },
  {
   "cell_type": "markdown",
   "metadata": {},
   "source": [
    "<img src=\"algoritmo_nota_final_curso.png\" width='400' height='200'>"
   ]
  },
  {
   "cell_type": "code",
   "execution_count": null,
   "metadata": {},
   "outputs": [],
   "source": [
    "# Entrada de datos:\n",
    "Nota1 = float(input('Nota 1:    '))\n",
    "Nota2 = float(input('Nota 2:    '))\n",
    "Nota3 = float(input('Nota 3:    '))\n",
    "\n",
    "# Cálculos:\n",
    "Promedio = (Nota1 + Nota2 + Nota3) / 3\n",
    "\n",
    "# Salida de resultados:\n",
    "if Promedio >= 3:\n",
    "    print('\\nAprobó el curso')\n",
    "    print('Su nota final es:', '%.2f' % Promedio)\n",
    "else:\n",
    "    print('\\nReprobó el curso')\n",
    "    print('Su nota final es:', '%.2f' % Promedio)\n"
   ]
  },
  {
   "cell_type": "markdown",
   "metadata": {},
   "source": [
    "**algoritmo** Nota final - Mejorado"
   ]
  },
  {
   "cell_type": "code",
   "execution_count": null,
   "metadata": {},
   "outputs": [],
   "source": [
    "# Entrada de datos:\n",
    "Nota1 = float(input('Nota 1:    '))\n",
    "Nota2 = float(input('Nota 2:    '))\n",
    "Nota3 = float(input('Nota 3:    '))\n",
    "\n",
    "# Verificación de las notas:\n",
    "if (Nota1 >= 0 and Nota1 <= 5) and (Nota2 >= 0 and Nota2 <= 5) and (Nota3 >= 0 and Nota3 <= 5):\n",
    "    # Cálculos:\n",
    "    Promedio = (Nota1 + Nota2 + Nota3) / 3\n",
    "\n",
    "    # Salida de resultados:\n",
    "    if Promedio >= 3:\n",
    "        print('\\nAprobó el curso')\n",
    "        print('Su nota final es:', '%.2f' % Promedio)\n",
    "    else:\n",
    "        print('\\nReprobó el curso')\n",
    "        print('Su nota final es:', '%.2f' % Promedio)\n",
    "else:\n",
    "    print('\\nError: Todas las notas deben estar entre 0 y 5')\n"
   ]
  },
  {
   "cell_type": "markdown",
   "metadata": {},
   "source": [
    "## Ejemplo 2"
   ]
  },
  {
   "cell_type": "markdown",
   "metadata": {},
   "source": [
    "<img src=\"algoritmo_calculo_salario_he.png\" width='300' height='150'>"
   ]
  },
  {
   "cell_type": "code",
   "execution_count": null,
   "metadata": {},
   "outputs": [],
   "source": [
    "# Entrada de datos\n",
    "nombre = input('Ingrese el nombre del trabajador:    ')\n",
    "horas = int(input('Ingrese el número de horas trabajadas en la semana:    '))\n",
    "valor_ho = int(input('Valor de la hora ordinaria:    '))\n",
    "\n",
    "# Cálculos:\n",
    "if horas > 40:\n",
    "    S_ord = 40 * valor_ho\n",
    "    S_ex = (horas - 40) * 1.5 * valor_ho\n",
    "    S_bruto = S_ord + S_ex\n",
    "    imp = 0.25 * S_ord + 0.1 * S_ex\n",
    "else:\n",
    "    S_ord = horas * valor_ho\n",
    "    S_bruto = S_ord\n",
    "    imp = 0.25 * S_ord\n",
    "\n",
    "S_neto = S_bruto - imp\n",
    "\n",
    "# Salida de resultados:\n",
    "print('\\nNombre:', nombre)\n",
    "print('Salario bruto: $', S_bruto, sep='')\n",
    "print('Salario neto: $', S_neto, sep='')"
   ]
  },
  {
   "cell_type": "markdown",
   "metadata": {},
   "source": [
    "**algoritmo** Salario con horas extras - Mejorado"
   ]
  },
  {
   "cell_type": "code",
   "execution_count": null,
   "metadata": {},
   "outputs": [],
   "source": [
    "# Entrada de datos\n",
    "nombre = input('Nombre del trabajador:    ')\n",
    "horas = int(input('Número de horas trabajadas en la semana:    '))\n",
    "valor_ho = int(input('Valor de la hora ordinaria:    '))\n",
    "\n",
    "# Cálculos:\n",
    "if 0 <= horas <= 40:\n",
    "    S_ord = horas * valor_ho\n",
    "    S_bruto = S_ord\n",
    "    imp = 0.25 * S_ord\n",
    "    S_neto = S_bruto - imp\n",
    "elif 40 < horas <= 72:\n",
    "    S_ord = 40 * valor_ho\n",
    "    S_ex = (horas - 40) * 1.5 * valor_ho\n",
    "    S_bruto = S_ord + S_ex\n",
    "    imp = 0.25 * S_ord + 0.1 * S_ex\n",
    "    S_neto = S_bruto - imp\n",
    "elif horas < 0:\n",
    "    print('\\nERROR: El número de horas debe ser positivo')\n",
    "else:\n",
    "    print('\\nERROR: El número máximo permitido de horas extraordinarias es 72')\n",
    "\n",
    "# Salida de resultados:\n",
    "if 0 <= horas <= 72:\n",
    "    print('\\nNombre:', nombre)\n",
    "    print('Salario bruto: $', S_bruto, sep='')\n",
    "    print('Salario neto: $', S_neto, sep='')"
   ]
  },
  {
   "cell_type": "markdown",
   "metadata": {},
   "source": [
    "## Ejemplo 3"
   ]
  },
  {
   "cell_type": "markdown",
   "metadata": {},
   "source": [
    "<img src=\"algoritmo_descuento_aniversario_v0.png\" width='300' height='150'>"
   ]
  },
  {
   "cell_type": "code",
   "execution_count": null,
   "metadata": {},
   "outputs": [],
   "source": [
    "# Inicialización de variables:\n",
    "error = 0\n",
    "\n",
    "# Entrada de datos:\n",
    "ctotal = float(input('Costo total de la compra:    '))\n",
    "color = input('Color de la balota:    ')\n",
    "\n",
    "# Cálculos:\n",
    "if color.lower() == 'blanco':\n",
    "    desc = 0\n",
    "elif color.lower() == 'verde':\n",
    "    desc = 0.1 * ctotal\n",
    "elif color.lower() == 'rojo':\n",
    "    desc = 0.2 * ctotal\n",
    "else:\n",
    "    error = 1\n",
    "\n",
    "# Salida de resultados:\n",
    "if error == 0:\n",
    "    pago = ctotal - desc\n",
    "    print('\\nEl pago total es: $', pago, sep='')\n",
    "else:\n",
    "    print('\\nERROR: El color ingresado no es válido')"
   ]
  },
  {
   "cell_type": "code",
   "execution_count": 12,
   "metadata": {},
   "outputs": [],
   "source": [
    "curso = 'Programación'"
   ]
  },
  {
   "cell_type": "code",
   "execution_count": 13,
   "metadata": {},
   "outputs": [
    {
     "data": {
      "text/plain": [
       "'programación'"
      ]
     },
     "execution_count": 13,
     "metadata": {},
     "output_type": "execute_result"
    }
   ],
   "source": [
    "curso.lower()"
   ]
  },
  {
   "cell_type": "code",
   "execution_count": 14,
   "metadata": {},
   "outputs": [
    {
     "data": {
      "text/plain": [
       "'PROGRAMACIÓN'"
      ]
     },
     "execution_count": 14,
     "metadata": {},
     "output_type": "execute_result"
    }
   ],
   "source": [
    "curso.upper()"
   ]
  },
  {
   "cell_type": "code",
   "execution_count": null,
   "metadata": {},
   "outputs": [],
   "source": []
  }
 ],
 "metadata": {
  "kernelspec": {
   "display_name": "Python 3",
   "language": "python",
   "name": "python3"
  },
  "language_info": {
   "codemirror_mode": {
    "name": "ipython",
    "version": 3
   },
   "file_extension": ".py",
   "mimetype": "text/x-python",
   "name": "python",
   "nbconvert_exporter": "python",
   "pygments_lexer": "ipython3",
   "version": "3.7.4"
  }
 },
 "nbformat": 4,
 "nbformat_minor": 2
}
