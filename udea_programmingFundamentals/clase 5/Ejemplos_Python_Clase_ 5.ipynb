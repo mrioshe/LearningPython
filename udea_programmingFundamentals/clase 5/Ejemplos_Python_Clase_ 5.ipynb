{
 "cells": [
  {
   "cell_type": "code",
   "execution_count": 1,
   "metadata": {},
   "outputs": [
    {
     "data": {
      "text/html": [
       "<img src=\"Algoritmo_salario.png\" width=\"400\" height=\"200\">\n"
      ],
      "text/plain": [
       "<IPython.core.display.HTML object>"
      ]
     },
     "metadata": {},
     "output_type": "display_data"
    }
   ],
   "source": [
    "%%html\n",
    "<img src=\"Algoritmo_salario.png\" width=\"400\" height=\"200\">"
   ]
  },
  {
   "cell_type": "markdown",
   "metadata": {},
   "source": [
    "## algoritmo salario"
   ]
  },
  {
   "cell_type": "code",
   "execution_count": 2,
   "metadata": {},
   "outputs": [
    {
     "name": "stdout",
     "output_type": "stream",
     "text": [
      "Ingrese el nombre del trabajador:    Carlos Cárdenas\n",
      "Ingrese el número de horas trabajadas en la semana:    30\n",
      "Ingrese el valor de la hora:    20000\n",
      "\n",
      "Nombre: Carlos Cárdenas\n",
      "Salario bruto: $600000\n",
      "Salario neto: $450000.0\n"
     ]
    }
   ],
   "source": [
    "# Entrada de datos:\n",
    "nombre = input('Ingrese el nombre del trabajador:    ')\n",
    "horas = int(input('Ingrese el número de horas trabajadas en la semana:    '))\n",
    "valor_h = int(input('Ingrese el valor de la hora:    '))\n",
    "\n",
    "# Cálculos\n",
    "S_bruto = horas * valor_h\n",
    "imp = 0.25 * S_bruto\n",
    "S_neto = S_bruto - imp\n",
    "\n",
    "# Salidas:\n",
    "print('\\nNombre:', nombre)\n",
    "print('Salario bruto: $', S_bruto, sep='')\n",
    "print('Salario neto: $', S_neto, sep='')"
   ]
  },
  {
   "cell_type": "code",
   "execution_count": 3,
   "metadata": {},
   "outputs": [
    {
     "data": {
      "text/html": [
       "<img src=\"Algoritmo_rectangulo.png\" width=\"400\" height=\"200\">\n"
      ],
      "text/plain": [
       "<IPython.core.display.HTML object>"
      ]
     },
     "metadata": {},
     "output_type": "display_data"
    }
   ],
   "source": [
    "%%html\n",
    "<img src=\"Algoritmo_rectangulo.png\" width=\"400\" height=\"200\">"
   ]
  },
  {
   "cell_type": "markdown",
   "metadata": {},
   "source": [
    "## Algoritmo rectángulo"
   ]
  },
  {
   "cell_type": "code",
   "execution_count": 6,
   "metadata": {},
   "outputs": [
    {
     "name": "stdout",
     "output_type": "stream",
     "text": [
      "Ingrese el valor de la base en cm:   8\n",
      "Ingrese el valor de la altura en cm:    -7\n",
      "\n",
      "Área: -56.0 [cm^2]\n",
      "Perímetro: 2.0 [cm]\n"
     ]
    }
   ],
   "source": [
    "# Entrada de datos:\n",
    "base = float(input('Ingrese el valor de la base en cm:   '))\n",
    "altura = float(input('Ingrese el valor de la altura en cm:    '))\n",
    "\n",
    "# Cálculos:\n",
    "area = base * altura\n",
    "perimetro = 2 * (base + altura)\n",
    "\n",
    "# Salidas:\n",
    "print('\\nÁrea:', area, '[cm^2]')\n",
    "print('Perímetro:', perimetro, '[cm]')"
   ]
  },
  {
   "cell_type": "code",
   "execution_count": 7,
   "metadata": {},
   "outputs": [
    {
     "data": {
      "text/html": [
       "<img src=\"Algoritmo_Vel_caida_paracaidista.png\" width=\"400\" height=\"200\">\n"
      ],
      "text/plain": [
       "<IPython.core.display.HTML object>"
      ]
     },
     "metadata": {},
     "output_type": "display_data"
    }
   ],
   "source": [
    "%%html\n",
    "<img src=\"Algoritmo_Vel_caida_paracaidista.png\" width=\"400\" height=\"200\">"
   ]
  },
  {
   "cell_type": "markdown",
   "metadata": {},
   "source": [
    "## Algoritmo caída paracaidista"
   ]
  },
  {
   "cell_type": "code",
   "execution_count": 17,
   "metadata": {},
   "outputs": [
    {
     "name": "stdout",
     "output_type": "stream",
     "text": [
      "Ingrese la masa en kg:    68.1\n",
      "ingrese el coeficiente de arrastre en Ns/m:    12.5\n",
      "Ingrese el tiempo de caída en s:    10\n",
      "\n",
      "La velocidad de caída a los 10.0 segundos es: 44.92 m/s\n"
     ]
    }
   ],
   "source": [
    "# Importación de librerías:\n",
    "# import numpy\n",
    "import numpy as np\n",
    "# from numpy import exp\n",
    "\n",
    "# Entrada de datos:\n",
    "m = float(input('Ingrese la masa en kg:    '))\n",
    "C = float(input('ingrese el coeficiente de arrastre en Ns/m:    '))\n",
    "t = float(input('Ingrese el tiempo de caída en s:    '))\n",
    "\n",
    "# Variables intermedias:\n",
    "g = 9.81\n",
    "\n",
    "# Cálculos:\n",
    "# V = ((m * g) / C) * (1 - numpy.exp(-(C / m) * t))\n",
    "V = ((m * g) / C) * (1 - np.exp(-(C / m) * t))\n",
    "# V = ((m * g) / C) * (1 - exp(-(C / m) * t))\n",
    "\n",
    "\n",
    "# Salidas:\n",
    "print('\\nLa velocidad de caída a los', t, 'segundos es:', '%.2f' % V, 'm/s')"
   ]
  },
  {
   "cell_type": "code",
   "execution_count": null,
   "metadata": {},
   "outputs": [],
   "source": [
    "# Funciones dentro una librería:\n",
    "dir(numpy)"
   ]
  },
  {
   "cell_type": "code",
   "execution_count": null,
   "metadata": {
    "scrolled": false
   },
   "outputs": [],
   "source": [
    "# Ayuda sobre una función específica\n",
    "help(numpy.exp2)"
   ]
  }
 ],
 "metadata": {
  "kernelspec": {
   "display_name": "Python 3",
   "language": "python",
   "name": "python3"
  },
  "language_info": {
   "codemirror_mode": {
    "name": "ipython",
    "version": 3
   },
   "file_extension": ".py",
   "mimetype": "text/x-python",
   "name": "python",
   "nbconvert_exporter": "python",
   "pygments_lexer": "ipython3",
   "version": "3.7.4"
  }
 },
 "nbformat": 4,
 "nbformat_minor": 2
}
