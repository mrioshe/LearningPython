{
  "nbformat": 4,
  "nbformat_minor": 0,
  "metadata": {
    "kernelspec": {
      "display_name": "Python 3",
      "language": "python",
      "name": "python3"
    },
    "language_info": {
      "codemirror_mode": {
        "name": "ipython",
        "version": 3
      },
      "file_extension": ".py",
      "mimetype": "text/x-python",
      "name": "python",
      "nbconvert_exporter": "python",
      "pygments_lexer": "ipython3",
      "version": "3.7.4"
    },
    "colab": {
      "provenance": []
    }
  },
  "cells": [
    {
      "cell_type": "markdown",
      "metadata": {
        "id": "ImPDWp6IEZiz"
      },
      "source": [
        "# 5)"
      ]
    },
    {
      "cell_type": "code",
      "metadata": {
        "id": "f3egb-mAEZi0"
      },
      "source": [
        "def temp_c(x): # Función pasar de Kelvin a gradios Celsius\n",
        "    t_c=x-273.15\n",
        "    return t_c\n",
        "def temp_f(x):# Función pasar de Kelvin a Fahrenheit\n",
        "    t_f=((x-273.15)*9/5)+32\n",
        "    return t_f\n",
        "t=int(input('Ingrese la temperatura en Kelvin: '))\n",
        "print('Temperatura en grados Celsius:',round(temp_c(t),2),' °C')\n",
        "print('Temperatura en grados Fahrenhei:',round(temp_f(t),2),' °F')"
      ],
      "execution_count": null,
      "outputs": []
    },
    {
      "cell_type": "markdown",
      "metadata": {
        "id": "PgqbsL_2EZi9"
      },
      "source": [
        "# 6)"
      ]
    },
    {
      "cell_type": "code",
      "metadata": {
        "id": "IyX1JFzaEZi9",
        "outputId": "0a0735f0-ae1d-4dd0-f61c-2c30a3f0e9be"
      },
      "source": [
        "def periodo_orbital(M,a):\n",
        "    from math import pi # importamos el número pi de la librería math\n",
        "    G= 6.673*10**(-11)\n",
        "    p=(((4*(pi**2)*(a*1000)**3)/(G*M))**(1/2))/ 31536000 # Tercera ley de kepler: donde p es el periodo\n",
        "    return(p)\n",
        "# la masa de debe ser ingresada por ejemplo así (caso del sol):'1.989*10**30' que es 1.989 × 10^30 kg\n",
        "# El semieje a debe ser ingresado por ejemplo:149.60*10**6  que son 149.60 millones de kilometros (semieje de la tierra)\n",
        "print('El periodo orbital T es:',round(periodo_orbital(eval(input('Ingrese masa de la estrella en kg: ')),eval(input('Ingrese el semieje mayor de la orbita a en km: ')) ),4),'años')\n",
        "# nota: el proceso se realizó considerando un años como 365 días, es decir un año natural."
      ],
      "execution_count": null,
      "outputs": [
        {
          "output_type": "stream",
          "text": [
            "Ingrese masa de la estrella en kg: 1.989*10**30\n",
            "Ingrese el semieje mayor de la orbita a en km: 57909100\n",
            "El periodo orbital T es: 0.241 años\n"
          ],
          "name": "stdout"
        }
      ]
    },
    {
      "cell_type": "markdown",
      "metadata": {
        "id": "cS1V757oEZjB"
      },
      "source": [
        "# 7)"
      ]
    },
    {
      "cell_type": "code",
      "metadata": {
        "id": "M4xXRSmqEZjC",
        "outputId": "7cc9a4d4-898a-4083-e9a8-7f94cf45e24d"
      },
      "source": [
        "def semieje_mayor(M,p): # Masa en kg, p en años\n",
        "    from math import pi # importamos el número pi de la librería math\n",
        "    G= 6.673*10**(-11)\n",
        "    a=(((G*M*(p*31536000)**(2))/(4*(pi)**2))**(1/3))/1000 # Semieje mayor en kilometros\n",
        "    return(a)\n",
        "print('El semieje mayor de la oribita a es: ',round(semieje_mayor(eval(input('Ingrese masa de la estrella en kg: ')),eval(input('Ingrese el periodo orbital T en años: '))),4) ,'km')\n",
        "# nota: el proceso se realizó considerando un años como 365 días, es decir un año natural."
      ],
      "execution_count": null,
      "outputs": [
        {
          "output_type": "stream",
          "text": [
            "Ingrese masa de la estrella en kg: 1.989*10**30\n",
            "Ingrese el periodo orbital T en años: 0.241\n",
            "El semieje mayor de la oribita a es:  57909234.417 km\n"
          ],
          "name": "stdout"
        }
      ]
    },
    {
      "cell_type": "markdown",
      "metadata": {
        "id": "AUQTCfeoEZjG"
      },
      "source": [
        "# 8)"
      ]
    },
    {
      "cell_type": "code",
      "metadata": {
        "id": "bRbxUPXqEZjH",
        "outputId": "e0f77383-9f6f-4923-c870-6cca59c6c02b"
      },
      "source": [
        "# nota: el proceso se realizó considerando un años como 365 días, es decir un año natural.\n",
        "# para poder resolver el ejericio no solo es necesario conocer el radio de la orbita del planeta sino el periodo de tiempo\n",
        "# de la orbita) y tiempo sería igual al periodo oribital que es lo que se demora en dar una vuelta o perímetro el planeta\n",
        "def vel_orbital(p,r):\n",
        "    from math import pi # importamos el número pi de la librería math\n",
        "    v=(2*pi*r)/(p*8760)\n",
        "    return(v)\n",
        "#por ejemplo 0.241 (años) que es el periodo orbital de Mercurio\n",
        "# por ejemplo radio(o distancia media al sol) de la tierra (de su orbita):149597870 km\n",
        "v=round(vel_orbital(eval(input('Ingrese el periodo orbital T en años: ')),eval(input('Ingrese el radio de la orbita del planeta km: '))),4)\n",
        "print('La velocidad orbital es: ',v ,'km/h')"
      ],
      "execution_count": null,
      "outputs": [
        {
          "output_type": "stream",
          "text": [
            "Ingrese el periodo orbital T en años: 1\n",
            "Ingrese el radio de la orbita del planeta km: 149597870\n",
            "La velocidad orbital es:  107300.3583 km/h\n"
          ],
          "name": "stdout"
        }
      ]
    },
    {
      "cell_type": "markdown",
      "metadata": {
        "id": "ttajKYwiEZjK"
      },
      "source": [
        "# 9)"
      ]
    },
    {
      "cell_type": "code",
      "metadata": {
        "id": "1aC9VzN_EZjL",
        "outputId": "65f63188-0942-4a08-d978-d2cb659e4b1e"
      },
      "source": [
        "def aceleracion_g(M,r):\n",
        "    G= 6.673*10**(-11)\n",
        "    g=G*M/((r*1000)**2)\n",
        "    return(g)\n",
        "# la masa de debe ser ingresada por ejemplo así (caso de la tierra):5.972*10**24 que es 5.972*10^24 kg\n",
        "# por ejemplo radio de la tierra: 6371 km\n",
        "print('La aceleración de la gravedad es: ',round(aceleracion_g(eval(input('Ingrese masa del planeta en kg: ')),eval(input('Ingrese el radio del planeta km: '))),4),'m/s^2')"
      ],
      "execution_count": null,
      "outputs": [
        {
          "output_type": "stream",
          "text": [
            "Ingrese masa del planeta en kg: 5.972*10**24\n",
            "Ingrese el radio del planeta km: 6371\n",
            "La aceleración de la gravedad es:  9.8181 m/s^2\n"
          ],
          "name": "stdout"
        }
      ]
    },
    {
      "cell_type": "markdown",
      "metadata": {
        "id": "MjKHfdRQEZjP"
      },
      "source": [
        "# 10)"
      ]
    },
    {
      "cell_type": "code",
      "metadata": {
        "id": "CstO2P6QEZjP",
        "outputId": "d9ed56ac-d6c2-4fcf-c7e2-f7e0f7501366"
      },
      "source": [
        "k=int(input('Ingrese el valores en $: ')) #ingresar el valor sin puntos ni comas, por ejemplo: 123200\n",
        "\n",
        "def num_billetes_50(k):\n",
        "    if k>= 50000:\n",
        "        cincuenta=k//50000\n",
        "    else:\n",
        "        cincuenta=0\n",
        "    return(cincuenta)\n",
        "\n",
        "def num_billetes_20(k):\n",
        "    if k >=50000:\n",
        "        veinte=k%50000//20000\n",
        "    elif k>=20000:\n",
        "        veinte=k//20000\n",
        "    else:\n",
        "        veinte=0\n",
        "    return(veinte)\n",
        "\n",
        "def num_billetes_10(k):\n",
        "    if k >=50000:\n",
        "        diez=k%50000%20000//10000\n",
        "    elif k>=20000:\n",
        "        diez=k%20000//10000\n",
        "    elif k>=10000:\n",
        "        diez=1\n",
        "    else:\n",
        "        diez=0\n",
        "    return(diez)\n",
        "\n",
        "def num_billetes_5(k):\n",
        "    if k >=50000:\n",
        "        cinco=k%50000%20000%10000//5000\n",
        "    elif k>=20000:\n",
        "        cinco=k%20000%10000//5000\n",
        "    elif k>=10000:\n",
        "        cinco=k%10000//5000\n",
        "    elif k>5000:\n",
        "        cinco=1\n",
        "    else:\n",
        "        cinco=0\n",
        "    return(cinco)\n",
        "\n",
        "def num_billetes_2(k):\n",
        "    if k >=50000:\n",
        "        dos=k%50000%20000%10000%5000//2000\n",
        "    elif k>=20000:\n",
        "        dos=k%20000%10000%5000//2000\n",
        "    elif k>=10000:\n",
        "        dos=k%10000%5000//2000\n",
        "    elif k>=5000:\n",
        "        dos=k%5000//2000\n",
        "    elif k>=2000:\n",
        "        dos=k//2000\n",
        "    else:\n",
        "        dos=0\n",
        "    return(dos)\n",
        "\n",
        "def num_billetes_1(k):\n",
        "    if k >=50000:\n",
        "        uno=k%50000%20000%10000%5000%2000//1000\n",
        "    elif k>=20000:\n",
        "        uno=k%20000%10000%5000%2000//1000\n",
        "    elif k>=10000:\n",
        "        uno=k%10000%5000%2000//1000\n",
        "    elif k>=5000:\n",
        "        uno=k%5000%2000//1000\n",
        "    elif k>=2000:\n",
        "        uno=k%2000//1000\n",
        "    elif k>=1000:\n",
        "        uno=k//1000\n",
        "    else:\n",
        "        uno=0\n",
        "    return(uno)\n",
        "def num_monedas_500(k):\n",
        "    if k >=50000:\n",
        "        quinientos=k%50000%20000%10000%5000%2000%1000//500\n",
        "    elif k>=20000:\n",
        "        quinientos=k%20000%10000%5000%2000%1000//500\n",
        "    elif k>=10000:\n",
        "        quinientos=k%10000%5000%2000%1000//500\n",
        "    elif k>=5000:\n",
        "        quinientos=k%5000%2000%1000//500\n",
        "    elif k>=2000:\n",
        "        quinientos=k%2000%1000//500\n",
        "    elif k>=1000:\n",
        "        quinientos=k%1000//500\n",
        "    elif k>=500:\n",
        "        quinientos=1\n",
        "    else:\n",
        "        quinientos=0\n",
        "    return(quinientos)\n",
        "\n",
        "def num_monedas_200(k):\n",
        "    if k >=50000:\n",
        "        doscientos=k%50000%20000%10000%5000%2000%1000%500//200\n",
        "    elif k>=20000:\n",
        "        doscientos=k%20000%10000%5000%2000%1000%500//200\n",
        "    elif k>=10000:\n",
        "        doscientos=k%10000%5000%2000%1000%500//200\n",
        "    elif k>=5000:\n",
        "        doscientos=k%5000%2000%1000%500//200\n",
        "    elif k>=2000:\n",
        "        doscientos=k%2000%1000%500//200\n",
        "    elif k>=1000:\n",
        "        doscientos=k%1000%500//200\n",
        "    elif k>=500:\n",
        "        doscientos=k%500//200\n",
        "    elif k>=200:\n",
        "        doscientos=k//200\n",
        "    else:\n",
        "        doscientos=0\n",
        "    return(doscientos)\n",
        "\n",
        "def num_monedas_100(k):\n",
        "    if k >=50000:\n",
        "        cienpesos=k%50000%20000%10000%5000%2000%1000%500%200//100\n",
        "    elif k>=20000:\n",
        "        cienpesos=k%20000%10000%5000%2000%1000%500%200//100\n",
        "    elif k>=10000:\n",
        "        cienpesos=k%10000%5000%2000%1000%500%200//100\n",
        "    elif k>=5000:\n",
        "        cienpesos=k%5000%2000%1000%500%200//100\n",
        "    elif k>=2000:\n",
        "        cienpesos=k%2000%1000%500%200//100\n",
        "    elif k>=1000:\n",
        "        cienpesos=k%1000%500%200//100\n",
        "    elif k>=500:\n",
        "        cienpesos=k%500%200//100\n",
        "    elif k>=200:\n",
        "        cienpesos=k%200//100\n",
        "    elif k>=100:\n",
        "        cienpesos=k//100\n",
        "    else:\n",
        "        cienpesos=0\n",
        "    return(cienpesos)\n",
        "\n",
        "def num_monedas_50(k):\n",
        "    if k >=50000:\n",
        "        cincuentapesos=k%50000%20000%10000%5000%2000%1000%500%200%100//50\n",
        "    elif k>=20000:\n",
        "        cincuentapesos=k%20000%10000%5000%2000%1000%500%200%100//50\n",
        "    elif k>=10000:\n",
        "        cincuentapesos=k%10000%5000%2000%1000%500%200%100//50\n",
        "    elif k>=5000:\n",
        "        cincuentapesos=k%5000%2000%1000%500%200%100//50\n",
        "    elif k>=2000:\n",
        "        cincuentapesos=k%2000%1000%500%200%100//50\n",
        "    elif k>=1000:\n",
        "        cincuentapesos=k%1000%500%200%100//50\n",
        "    elif k>=500:\n",
        "        cincuentapesos=k%500%200%100//50\n",
        "    elif k>=200:\n",
        "        cincuentapesos=k%200%100//50\n",
        "    elif k>=100:\n",
        "        cincuentapesos=k%100//50\n",
        "    else:\n",
        "        cincuentapesos=1\n",
        "    return(cincuentapesos)\n",
        "\n",
        "cincuenta=num_billetes_50(k)\n",
        "veinte=num_billetes_20(k)\n",
        "diez=num_billetes_10(k)\n",
        "cinco=num_billetes_5(k)\n",
        "dos=num_billetes_2(k)\n",
        "uno=num_billetes_1(k)\n",
        "quinientos=num_monedas_500(k)\n",
        "doscientos=num_monedas_200(k)\n",
        "cienpesos=num_monedas_100(k)\n",
        "cincuentapesos=num_monedas_50(k)\n",
        "\n",
        "if cincuenta !=0:\n",
        "    print(cincuenta, 'billete(s) de $50000'\n",
        ")\n",
        "if veinte !=0:\n",
        "    print(veinte,'billete(s) de $20000'\n",
        ")\n",
        "if diez !=0:\n",
        "    print(diez,'billete(s) de $10000')\n",
        "if cinco !=0:\n",
        "    print(cinco,'billete(s) de $5000')\n",
        "if dos !=0:\n",
        "    print(dos,'billete(s) de $2000')\n",
        "if uno !=0:\n",
        "    print(uno,'billete(s) de $1000')\n",
        "if quinientos !=0:\n",
        "    print(quinientos,'moneda(s) de $500')\n",
        "if doscientos !=0:\n",
        "    print(doscientos,'moneda(s) de $200')\n",
        "if cienpesos !=0:\n",
        "    print(cienpesos,'moneda(s) de $100')\n",
        "if cincuentapesos !=0:\n",
        "    print(cincuentapesos,'moneda(s) de $50')"
      ],
      "execution_count": null,
      "outputs": [
        {
          "output_type": "stream",
          "text": [
            "Ingrese el valores en $: 123350\n",
            "2 billete(s) de $50000\n",
            "1 billete(s) de $20000\n",
            "1 billete(s) de $2000\n",
            "1 billete(s) de $1000\n",
            "1 moneda(s) de $200\n",
            "1 moneda(s) de $100\n",
            "1 moneda(s) de $50\n"
          ],
          "name": "stdout"
        }
      ]
    }
  ]
}