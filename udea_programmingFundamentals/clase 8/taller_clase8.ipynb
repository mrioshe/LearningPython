{
 "cells": [
  {
   "cell_type": "markdown",
   "metadata": {},
   "source": [
    "# Taller estructuras de repetición:"
   ]
  },
  {
   "cell_type": "markdown",
   "metadata": {},
   "source": [
    "<font color = #A833FF > <H3> **1. Tiempo de actividad por rango de edad:**"
   ]
  },
  {
   "cell_type": "code",
   "execution_count": null,
   "metadata": {},
   "outputs": [],
   "source": [
    "# Inicialización de variables:\n",
    "j = 0\n",
    "\n",
    "print('_'* 70)\n",
    "print('\\nSu edad debe estar entre 15 y 42 años')\n",
    "print('_'* 70)\n",
    "\n",
    "# Procesos y salidas:\n",
    "\n",
    "while True: \n",
    "    \n",
    "    edad = int(input('\\nIngrese su edad:  '))\n",
    "    \n",
    "    if not 15 < edad < 42:\n",
    "        error = True\n",
    "        j += 1\n",
    "        print('\\nRecuerde, Su edad debe estar entre 15 y 42 años')    \n",
    "    else:\n",
    "        error = False \n",
    "    \n",
    "    if error == True:\n",
    "\n",
    "        if j > 1:\n",
    "            repetir = input('\\n¿Desea continuar? S/N   :  ').lower()\n",
    "            \n",
    "            if repetir == 's':\n",
    "                j = 0\n",
    "                continue \n",
    "            else:\n",
    "                break   \n",
    "                \n",
    "    if  15 <= edad <= 20:\n",
    "        print('\\nTiempo recomendado: 70 mínutos.')\n",
    "    elif  21 <= edad <= 28:\n",
    "        print('\\nTiempo recomendado: 90 mínutos.')\n",
    "    elif 29 <= edad <= 35:\n",
    "        print('\\nTiempo recomendado: 60 mínutos.')    \n",
    "    elif  36 <= edad <= 42:\n",
    "        print('\\nTiempo recomendado: 50 mínutos.')\n",
    "    "
   ]
  },
  {
   "cell_type": "markdown",
   "metadata": {},
   "source": [
    "<font color = #A833FF > <H3> **2. Velocidad de caída del paracaídista:**"
   ]
  },
  {
   "cell_type": "code",
   "execution_count": null,
   "metadata": {},
   "outputs": [],
   "source": [
    "# importamos librería \n",
    "import numpy as np\n",
    "\n",
    "# Inicialización de variables:\n",
    "g = 9.81\n",
    "v_a = 0\n",
    " \n",
    "# Entrada de datos:\n",
    "m = float(input('Ingrese la masa de paracaídista [Kg]:   '))\n",
    "c = float(input('Ingrese coeficiente de arrastre [Ns/m]:   '))\n",
    "t = int(input('Ingrese el tiempo de caída [s]: '))\n",
    "Dt= int(input('Ingrese paso temporal [s]:   '))\n",
    "\n",
    "#Procesos\n",
    "v = (m * g / c)*(1-np.exp(-c*t_c/m))\n",
    "\n",
    "for i in range(Dt, t + Dt, Dt):\n",
    "    \n",
    "      v_a = v_a  + (g-(c*v_a/m))*Dt \n",
    "\n",
    "error_abs = v - v_a\n",
    "error_relativo = 100 * abs(error_abs/v)\n",
    "\n",
    "# Salidas:\n",
    "\n",
    "print('\\nLa velocidad a los %d s es: %.2f ' % (t,v_a))\n",
    "print('\\nEl error absoluto es: %.2f' % error_abs)\n",
    "print('El error relativo es: %.2f' % error_relativo)"
   ]
  },
  {
   "cell_type": "markdown",
   "metadata": {},
   "source": [
    "<font color = #A833FF > <H3> **3. Nota final de un curso:**"
   ]
  },
  {
   "cell_type": "code",
   "execution_count": 1,
   "metadata": {},
   "outputs": [
    {
     "name": "stdout",
     "output_type": "stream",
     "text": [
      "ingrese nota 1:  7\n",
      "ingrese nota 2:  5\n",
      "ingrese nota 3:  0\n",
      "\n",
      "Las notas deben estar entre 0 y 5.\n",
      "\n",
      "¿Desea continuar? S/N:  s\n",
      "ingrese nota 1:  5\n",
      "ingrese nota 2:  8\n",
      "ingrese nota 3:  0\n",
      "\n",
      "Las notas deben estar entre 0 y 5.\n",
      "\n",
      "¿Desea continuar? S/N:  s\n",
      "ingrese nota 1:  4.5\n",
      "ingrese nota 2:  2\n",
      "ingrese nota 3:  -1\n",
      "\n",
      "Las notas deben estar entre 0 y 5.\n",
      "\n",
      "¿Desea continuar? S/N:  s\n",
      "ingrese nota 1:  -1\n",
      "ingrese nota 2:  9\n",
      "ingrese nota 3:  8\n",
      "\n",
      "Las notas deben estar entre 0 y 5.\n",
      "\n",
      "¿Desea continuar? S/N:  s\n",
      "ingrese nota 1:  -1\n",
      "ingrese nota 2:  -2\n",
      "ingrese nota 3:  -3\n",
      "\n",
      "Las notas deben estar entre 0 y 5.\n"
     ]
    }
   ],
   "source": [
    "# Inicialización de variables:\n",
    "\n",
    "j=0\n",
    "\n",
    "# Entradas, procesos y salidas:\n",
    "\n",
    "while True:\n",
    "    \n",
    "    nota_1,nota_2,nota_3=float(input('ingrese nota 1:  ')),float(input('ingrese nota 2:  ')),float(input('ingrese nota 3:  '))\n",
    "    \n",
    "    if  ( nota_1 < 0 or nota_1 > 5) or ( nota_2 < 0 or nota_2 > 5) or ( nota_3 < 0 or nota_3 > 5): \n",
    "        error = True \n",
    "        j = j + 1\n",
    "        print('\\nLas notas deben estar entre 0 y 5.')\n",
    "    else:\n",
    "        error = False\n",
    "        \n",
    "    if error:\n",
    "        \n",
    "        if j < 5:\n",
    "            repetir=input('\\n¿Desea continuar? S/N:  ').lower()\n",
    "            \n",
    "            if repetir == 's':\n",
    "                continue\n",
    "            else:\n",
    "                break\n",
    "        else:\n",
    "            print('\\nAgotó el número de intentos')\n",
    "            break\n",
    "            \n",
    "    promedio = (nota_1 + nota_2 + nota_3)/3\n",
    "    \n",
    "    if promedio >= 3:\n",
    "        print('\\n aprobó el curso con un promedio de %.2f' %promedio)\n",
    "    else:\n",
    "        print('\\n reprobó el curso con un promedio de %.2f' %promedio)\n",
    " \n"
   ]
  },
  {
   "cell_type": "code",
   "execution_count": null,
   "metadata": {},
   "outputs": [],
   "source": []
  }
 ],
 "metadata": {
  "kernelspec": {
   "display_name": "Python 3",
   "language": "python",
   "name": "python3"
  },
  "language_info": {
   "codemirror_mode": {
    "name": "ipython",
    "version": 3
   },
   "file_extension": ".py",
   "mimetype": "text/x-python",
   "name": "python",
   "nbconvert_exporter": "python",
   "pygments_lexer": "ipython3",
   "version": "3.7.4"
  }
 },
 "nbformat": 4,
 "nbformat_minor": 2
}
