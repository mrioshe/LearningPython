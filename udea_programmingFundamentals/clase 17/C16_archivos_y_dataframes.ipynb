{
 "cells": [
  {
   "cell_type": "markdown",
   "metadata": {},
   "source": [
    "# Archivos y DataFrames"
   ]
  },
  {
   "cell_type": "markdown",
   "metadata": {},
   "source": [
    "## Archivos de texto"
   ]
  },
  {
   "cell_type": "markdown",
   "metadata": {},
   "source": [
    "### <font color = 'green'>Librería estandar de Python"
   ]
  },
  {
   "cell_type": "markdown",
   "metadata": {},
   "source": [
    "#### Lectura de archivos"
   ]
  },
  {
   "cell_type": "code",
   "execution_count": null,
   "metadata": {},
   "outputs": [],
   "source": [
    "s_1 = open ('texto_1.txt').read()\n",
    "print(s_1)"
   ]
  },
  {
   "cell_type": "code",
   "execution_count": null,
   "metadata": {},
   "outputs": [],
   "source": [
    "s_1"
   ]
  },
  {
   "cell_type": "code",
   "execution_count": null,
   "metadata": {},
   "outputs": [],
   "source": [
    "# Cargar en una lista línea por línea:\n",
    "lineas = [linea.strip() for linea in open('texto_1.txt')]\n",
    "print (lineas)"
   ]
  },
  {
   "cell_type": "code",
   "execution_count": null,
   "metadata": {},
   "outputs": [],
   "source": [
    "texto = open('texto_1.txt','r')\n",
    "lineas_1 = texto.readlines()\n",
    "print (lineas_1)"
   ]
  },
  {
   "cell_type": "code",
   "execution_count": 2,
   "metadata": {},
   "outputs": [
    {
     "name": "stdout",
     "output_type": "stream",
     "text": [
      "Â¿En Python las tuplas se pueden modificar? Si/No\n",
      "no\n",
      "\n",
      "¡Correcto!\n",
      "\n",
      "Lleva 1 aciertos de 1\n",
      "_________________________ \n",
      "\n",
      "Â¿CuÃ¡l es el cÃ³digo en Python para aÃ±adir 5 como elemento al final de la lista L?\n",
      "ww\n",
      "\\ERROR: la respuesta correcta es: L.append(5)\n",
      "\n",
      "Lleva 1 aciertos de 2\n",
      "_________________________ \n",
      "\n",
      "Â¿CÃ³mo se determina en Python el tamaÃ±o de la matriz M usando un mÃ©todo?\n",
      "\n",
      "\\ERROR: la respuesta correcta es: M.shape\n",
      "\n",
      "Lleva 1 aciertos de 3\n",
      "_________________________ \n",
      "\n",
      "Â¿CÃ³mo se determina en Python el tamaÃ±o de la matriz M usando una funciÃ³n?\n",
      "\n",
      "\\ERROR: la respuesta correcta es: np.shape(M)\n",
      "\n",
      "Lleva 1 aciertos de 4\n",
      "_________________________ \n",
      "\n",
      "Â¿CuÃ¡l sÃ­mbolo se usa en pseudocÃ³digo para concatenar cadenas de caracteres?\n",
      "\n",
      "\\ERROR: la respuesta correcta es: &\n",
      "\n",
      "Lleva 1 aciertos de 5\n",
      "_________________________ \n",
      "\n",
      "Â¿CuÃ¡l es el operador en Python para elevar a un exponente?\n",
      "\n",
      "\\ERROR: la respuesta correcta es: **\n",
      "\n",
      "Lleva 1 aciertos de 6\n",
      "_________________________ \n",
      "\n",
      "\n",
      " Su Nota final es 0.8\n"
     ]
    }
   ],
   "source": [
    "# Ejemplo quiz autocalificable\n",
    "# Carga de datos\n",
    "\n",
    "preguntas = [linea.strip() for linea in open('preguntas.txt')]\n",
    "respuestas = [linea.strip() for linea in open('respuestas.txt')]\n",
    "\n",
    "# Inicialización de variables:\n",
    "aciertos= 0\n",
    "\n",
    "# Procesos:\n",
    "\n",
    "for i in range(len(preguntas)):\n",
    "    resp = input(preguntas[i] + '\\n')\n",
    "    if resp.lower() == respuestas[i].lower():\n",
    "        print('\\n¡Correcto!')\n",
    "        aciertos+= 1\n",
    "    else:\n",
    "        print('\\ERROR: la respuesta correcta es:', respuestas [i])\n",
    "    print('\\nLleva',aciertos, 'aciertos de', i+1)\n",
    "    print('_'*25, '\\n')\n",
    "    \n",
    "# Salidas\n",
    "print ('\\n Su Nota final es %.1f' % (float(aciertos)*5/len(preguntas)))"
   ]
  },
  {
   "cell_type": "markdown",
   "metadata": {},
   "source": [
    "#### Escritura o creación"
   ]
  },
  {
   "cell_type": "code",
   "execution_count": 6,
   "metadata": {},
   "outputs": [],
   "source": [
    "# Crear un archivo nuevo:\n",
    "f = open('archivo_escritura.txt', 'w') #w : write\n",
    "\n",
    "# Se escribe línea a línea:\n",
    "print('Esta es la línea 1.', file = f)\n",
    "print('Esta es la línea 2.', file = f)\n",
    "f.close()"
   ]
  },
  {
   "cell_type": "code",
   "execution_count": 7,
   "metadata": {},
   "outputs": [],
   "source": [
    "poema = ''' Esto es amor\n",
    "Esto es el amor: llevar en la sangre\n",
    "\n",
    "el impulso inefable de otra sangre,\n",
    "\n",
    "buscarse el corazón dentro del pecho\n",
    "\n",
    "y no encontrarlo hasta palpar su frente,\n",
    "\n",
    "padecer la ansiedad de ser en otro\n",
    "\n",
    "como grano de trigo germinando,\n",
    "\n",
    "es trasladar el mar hasta sus ojos\n",
    "\n",
    "y sumergirse en ellos hasta el alma,\n",
    "\n",
    "sentir la eternidad entre las manos\n",
    "\n",
    "al descubrir a Dios en su mirada,\n",
    "\n",
    "árbol del  bien que las horas traspasa.\n",
    "\n",
    "Esto es amor: ser uno proyectado.\n",
    "\n",
    "\n",
    "'''\n",
    "f = open('poema_esto_es_amor.txt','w')\n",
    "\n",
    "# Se escribe el archivo completo de una vez:\n",
    "print(poema, file = f)\n",
    "f.close()"
   ]
  },
  {
   "cell_type": "code",
   "execution_count": 9,
   "metadata": {},
   "outputs": [
    {
     "data": {
      "text/plain": [
       "[' Esto es amor\\n',\n",
       " 'Esto es el amor: llevar en la sangre\\n',\n",
       " '\\n',\n",
       " 'el impulso inefable de otra sangre,\\n',\n",
       " '\\n',\n",
       " 'buscarse el corazón dentro del pecho\\n',\n",
       " '\\n',\n",
       " 'y no encontrarlo hasta palpar su frente,\\n',\n",
       " '\\n',\n",
       " 'padecer la ansiedad de ser en otro\\n',\n",
       " '\\n',\n",
       " 'como grano de trigo germinando,\\n',\n",
       " '\\n',\n",
       " 'es trasladar el mar hasta sus ojos\\n',\n",
       " '\\n',\n",
       " 'y sumergirse en ellos hasta el alma,\\n',\n",
       " '\\n',\n",
       " 'sentir la eternidad entre las manos\\n',\n",
       " '\\n',\n",
       " 'al descubrir a Dios en su mirada,\\n',\n",
       " '\\n',\n",
       " 'árbol del  bien que las horas traspasa.\\n',\n",
       " '\\n',\n",
       " 'Esto es amor: ser uno proyectado.\\n',\n",
       " '\\n',\n",
       " '\\n',\n",
       " '\\n']"
      ]
     },
     "execution_count": 9,
     "metadata": {},
     "output_type": "execute_result"
    }
   ],
   "source": [
    "f = open ('poema_esto_es_amor.txt','r')\n",
    "f.readlines()"
   ]
  },
  {
   "cell_type": "code",
   "execution_count": 12,
   "metadata": {},
   "outputs": [],
   "source": [
    "# Ejmplo: conversión de unidades de temeratura entre grados centrírados y fahrenheit:\n",
    "# Carga de datos:\n",
    "temp_C = [linea.strip() for linea in open('Temp_c.txt')]\n",
    "\n",
    "# Conversión de unidades:\n",
    "arch_1 =open('Temp_F.txt', 'w')\n",
    "for T_C in temp_C:\n",
    "    T_F = round(float(T_C)* (9/5) + 32, ndigits = 1)\n",
    "    print(T_F, file = arch_1)\n",
    "arch_1.close()\n",
    "    "
   ]
  },
  {
   "cell_type": "markdown",
   "metadata": {},
   "source": [
    "### <font color = 'green'>Librería Numpy"
   ]
  },
  {
   "cell_type": "code",
   "execution_count": 13,
   "metadata": {},
   "outputs": [],
   "source": [
    "# Importación de la librería\n",
    "import numpy as np"
   ]
  },
  {
   "cell_type": "code",
   "execution_count": 15,
   "metadata": {},
   "outputs": [],
   "source": [
    "#np.savetxt y np.loadtxt\n",
    "m_1 = np.random.random ((10,19))\n",
    "np.savetxt('archivo_m_1.txt', m_1, fmt ='%.2f', delimiter ='\\t')"
   ]
  },
  {
   "cell_type": "code",
   "execution_count": 16,
   "metadata": {},
   "outputs": [
    {
     "name": "stdout",
     "output_type": "stream",
     "text": [
      "Help on function savetxt in module numpy:\n",
      "\n",
      "savetxt(fname, X, fmt='%.18e', delimiter=' ', newline='\\n', header='', footer='', comments='# ', encoding=None)\n",
      "    Save an array to a text file.\n",
      "    \n",
      "    Parameters\n",
      "    ----------\n",
      "    fname : filename or file handle\n",
      "        If the filename ends in ``.gz``, the file is automatically saved in\n",
      "        compressed gzip format.  `loadtxt` understands gzipped files\n",
      "        transparently.\n",
      "    X : 1D or 2D array_like\n",
      "        Data to be saved to a text file.\n",
      "    fmt : str or sequence of strs, optional\n",
      "        A single format (%10.5f), a sequence of formats, or a\n",
      "        multi-format string, e.g. 'Iteration %d -- %10.5f', in which\n",
      "        case `delimiter` is ignored. For complex `X`, the legal options\n",
      "        for `fmt` are:\n",
      "    \n",
      "        * a single specifier, `fmt='%.4e'`, resulting in numbers formatted\n",
      "          like `' (%s+%sj)' % (fmt, fmt)`\n",
      "        * a full string specifying every real and imaginary part, e.g.\n",
      "          `' %.4e %+.4ej %.4e %+.4ej %.4e %+.4ej'` for 3 columns\n",
      "        * a list of specifiers, one per column - in this case, the real\n",
      "          and imaginary part must have separate specifiers,\n",
      "          e.g. `['%.3e + %.3ej', '(%.15e%+.15ej)']` for 2 columns\n",
      "    delimiter : str, optional\n",
      "        String or character separating columns.\n",
      "    newline : str, optional\n",
      "        String or character separating lines.\n",
      "    \n",
      "        .. versionadded:: 1.5.0\n",
      "    header : str, optional\n",
      "        String that will be written at the beginning of the file.\n",
      "    \n",
      "        .. versionadded:: 1.7.0\n",
      "    footer : str, optional\n",
      "        String that will be written at the end of the file.\n",
      "    \n",
      "        .. versionadded:: 1.7.0\n",
      "    comments : str, optional\n",
      "        String that will be prepended to the ``header`` and ``footer`` strings,\n",
      "        to mark them as comments. Default: '# ',  as expected by e.g.\n",
      "        ``numpy.loadtxt``.\n",
      "    \n",
      "        .. versionadded:: 1.7.0\n",
      "    encoding : {None, str}, optional\n",
      "        Encoding used to encode the outputfile. Does not apply to output\n",
      "        streams. If the encoding is something other than 'bytes' or 'latin1'\n",
      "        you will not be able to load the file in NumPy versions < 1.14. Default\n",
      "        is 'latin1'.\n",
      "    \n",
      "        .. versionadded:: 1.14.0\n",
      "    \n",
      "    \n",
      "    See Also\n",
      "    --------\n",
      "    save : Save an array to a binary file in NumPy ``.npy`` format\n",
      "    savez : Save several arrays into an uncompressed ``.npz`` archive\n",
      "    savez_compressed : Save several arrays into a compressed ``.npz`` archive\n",
      "    \n",
      "    Notes\n",
      "    -----\n",
      "    Further explanation of the `fmt` parameter\n",
      "    (``%[flag]width[.precision]specifier``):\n",
      "    \n",
      "    flags:\n",
      "        ``-`` : left justify\n",
      "    \n",
      "        ``+`` : Forces to precede result with + or -.\n",
      "    \n",
      "        ``0`` : Left pad the number with zeros instead of space (see width).\n",
      "    \n",
      "    width:\n",
      "        Minimum number of characters to be printed. The value is not truncated\n",
      "        if it has more characters.\n",
      "    \n",
      "    precision:\n",
      "        - For integer specifiers (eg. ``d,i,o,x``), the minimum number of\n",
      "          digits.\n",
      "        - For ``e, E`` and ``f`` specifiers, the number of digits to print\n",
      "          after the decimal point.\n",
      "        - For ``g`` and ``G``, the maximum number of significant digits.\n",
      "        - For ``s``, the maximum number of characters.\n",
      "    \n",
      "    specifiers:\n",
      "        ``c`` : character\n",
      "    \n",
      "        ``d`` or ``i`` : signed decimal integer\n",
      "    \n",
      "        ``e`` or ``E`` : scientific notation with ``e`` or ``E``.\n",
      "    \n",
      "        ``f`` : decimal floating point\n",
      "    \n",
      "        ``g,G`` : use the shorter of ``e,E`` or ``f``\n",
      "    \n",
      "        ``o`` : signed octal\n",
      "    \n",
      "        ``s`` : string of characters\n",
      "    \n",
      "        ``u`` : unsigned decimal integer\n",
      "    \n",
      "        ``x,X`` : unsigned hexadecimal integer\n",
      "    \n",
      "    This explanation of ``fmt`` is not complete, for an exhaustive\n",
      "    specification see [1]_.\n",
      "    \n",
      "    References\n",
      "    ----------\n",
      "    .. [1] `Format Specification Mini-Language\n",
      "           <https://docs.python.org/library/string.html#format-specification-mini-language>`_,\n",
      "           Python Documentation.\n",
      "    \n",
      "    Examples\n",
      "    --------\n",
      "    >>> x = y = z = np.arange(0.0,5.0,1.0)\n",
      "    >>> np.savetxt('test.out', x, delimiter=',')   # X is an array\n",
      "    >>> np.savetxt('test.out', (x,y,z))   # x,y,z equal sized 1D arrays\n",
      "    >>> np.savetxt('test.out', x, fmt='%1.4e')   # use exponential notation\n",
      "\n"
     ]
    }
   ],
   "source": [
    "help(np.savetxt)"
   ]
  },
  {
   "cell_type": "code",
   "execution_count": 17,
   "metadata": {},
   "outputs": [
    {
     "data": {
      "text/plain": [
       "array([[0.33, 0.01, 0.08, 0.68, 0.21, 0.98, 0.72, 0.64, 0.3 , 0.3 , 0.58,\n",
       "        0.56, 0.85, 0.59, 0.02, 0.18, 0.14, 0.41, 0.54],\n",
       "       [0.86, 0.24, 0.49, 0.94, 0.71, 0.04, 0.37, 0.55, 0.72, 0.14, 0.16,\n",
       "        0.6 , 0.45, 0.77, 0.98, 0.65, 0.03, 0.56, 0.86],\n",
       "       [0.56, 0.59, 0.02, 0.35, 0.15, 0.44, 0.81, 0.23, 0.93, 0.65, 0.66,\n",
       "        0.09, 0.52, 0.98, 0.78, 0.22, 0.15, 0.15, 0.39],\n",
       "       [0.55, 0.07, 0.01, 0.97, 0.21, 0.28, 0.53, 0.89, 0.26, 0.88, 0.46,\n",
       "        0.5 , 0.54, 0.66, 0.45, 0.61, 0.86, 0.04, 0.05],\n",
       "       [0.25, 0.2 , 0.26, 0.68, 0.8 , 0.59, 0.5 , 0.51, 0.4 , 0.83, 0.33,\n",
       "        0.84, 0.98, 0.06, 0.17, 0.14, 0.02, 0.42, 0.94],\n",
       "       [0.11, 0.33, 0.1 , 0.9 , 0.01, 0.92, 0.26, 0.43, 0.38, 0.62, 0.96,\n",
       "        0.74, 0.42, 0.03, 0.44, 0.75, 0.56, 0.4 , 0.66],\n",
       "       [0.68, 0.97, 0.31, 0.89, 0.68, 0.6 , 0.92, 0.77, 0.59, 0.48, 0.67,\n",
       "        0.16, 0.44, 0.2 , 0.11, 0.06, 0.02, 0.31, 0.88],\n",
       "       [0.74, 0.39, 0.79, 0.18, 0.56, 0.36, 0.67, 0.35, 0.39, 0.85, 0.22,\n",
       "        0.01, 0.36, 0.81, 0.59, 0.48, 0.94, 0.76, 0.63],\n",
       "       [0.49, 0.23, 0.89, 0.16, 0.62, 0.28, 0.85, 0.34, 0.25, 0.66, 0.61,\n",
       "        0.09, 0.02, 0.42, 0.53, 0.69, 0.74, 0.02, 0.39],\n",
       "       [0.27, 0.25, 0.42, 0.51, 0.41, 0.68, 0.82, 0.07, 0.09, 0.66, 0.61,\n",
       "        0.84, 0.36, 0.23, 0.97, 0.63, 0.53, 0.74, 0.88]])"
      ]
     },
     "execution_count": 17,
     "metadata": {},
     "output_type": "execute_result"
    }
   ],
   "source": [
    "m_2 = np.loadtxt('archivo_m_1.txt')\n",
    "m_2"
   ]
  },
  {
   "cell_type": "code",
   "execution_count": 18,
   "metadata": {},
   "outputs": [
    {
     "data": {
      "text/plain": [
       "array([[False, False, False, False, False, False, False, False, False,\n",
       "        False, False, False, False, False, False, False, False, False,\n",
       "        False],\n",
       "       [False, False, False, False, False, False, False, False, False,\n",
       "        False, False, False, False, False, False, False, False, False,\n",
       "        False],\n",
       "       [False, False, False, False, False, False, False, False, False,\n",
       "        False, False, False, False, False, False, False, False, False,\n",
       "        False],\n",
       "       [False, False, False, False, False, False, False, False, False,\n",
       "        False, False, False, False, False, False, False, False, False,\n",
       "        False],\n",
       "       [False, False, False, False, False, False, False, False, False,\n",
       "        False, False, False, False, False, False, False, False, False,\n",
       "        False],\n",
       "       [False, False, False, False, False, False, False, False, False,\n",
       "        False, False, False, False, False, False, False, False, False,\n",
       "        False],\n",
       "       [False, False, False, False, False, False, False, False, False,\n",
       "        False, False, False, False, False, False, False, False, False,\n",
       "        False],\n",
       "       [False, False, False, False, False, False, False, False, False,\n",
       "        False, False, False, False, False, False, False, False, False,\n",
       "        False],\n",
       "       [False, False, False, False, False, False, False, False, False,\n",
       "        False, False, False, False, False, False, False, False, False,\n",
       "        False],\n",
       "       [False, False, False, False, False, False, False, False, False,\n",
       "        False, False, False, False, False, False, False, False, False,\n",
       "        False]])"
      ]
     },
     "execution_count": 18,
     "metadata": {},
     "output_type": "execute_result"
    }
   ],
   "source": [
    "m_1 == m_2"
   ]
  },
  {
   "cell_type": "code",
   "execution_count": 19,
   "metadata": {},
   "outputs": [
    {
     "data": {
      "text/plain": [
       "array([[0.32782714, 0.00616692, 0.07810294, 0.67846367, 0.21325051,\n",
       "        0.98303949, 0.7225224 , 0.63721044, 0.30152955, 0.30190231,\n",
       "        0.57924832, 0.55914408, 0.85159648, 0.59263108, 0.02153168,\n",
       "        0.1845709 , 0.14141198, 0.41392065, 0.53891775],\n",
       "       [0.85898474, 0.23824428, 0.48891799, 0.93931929, 0.71037652,\n",
       "        0.0407236 , 0.3661424 , 0.55039545, 0.71604887, 0.14449892,\n",
       "        0.16016515, 0.60479891, 0.45134698, 0.770128  , 0.98243069,\n",
       "        0.64831354, 0.03034311, 0.56121632, 0.86371483],\n",
       "       [0.56284621, 0.5875876 , 0.01593808, 0.34857457, 0.14582675,\n",
       "        0.43542684, 0.81016007, 0.22887608, 0.93445935, 0.65293776,\n",
       "        0.65805717, 0.09054904, 0.51924277, 0.98273803, 0.78134044,\n",
       "        0.21696796, 0.1453332 , 0.14883813, 0.38964431],\n",
       "       [0.55189035, 0.06562932, 0.00571449, 0.96806299, 0.21445527,\n",
       "        0.27743083, 0.53460838, 0.88990462, 0.25795717, 0.87501048,\n",
       "        0.45655656, 0.50191516, 0.53660788, 0.65583622, 0.44578121,\n",
       "        0.60962802, 0.86064077, 0.03868363, 0.0541629 ],\n",
       "       [0.25233565, 0.20414386, 0.26148949, 0.67874642, 0.80434807,\n",
       "        0.58958572, 0.49642292, 0.50771739, 0.40213693, 0.82679819,\n",
       "        0.32813731, 0.83804681, 0.98372361, 0.05897621, 0.17497007,\n",
       "        0.14396527, 0.02434084, 0.42182833, 0.93730466],\n",
       "       [0.109873  , 0.33095944, 0.09988713, 0.89651672, 0.00712392,\n",
       "        0.92110684, 0.25669586, 0.42584399, 0.38429584, 0.61699291,\n",
       "        0.96321036, 0.74480678, 0.42299556, 0.03227254, 0.43734375,\n",
       "        0.74703981, 0.56065839, 0.39831215, 0.65816448],\n",
       "       [0.68185423, 0.96792218, 0.30814375, 0.89301998, 0.68142597,\n",
       "        0.59602261, 0.91527741, 0.7720862 , 0.5898478 , 0.47583876,\n",
       "        0.67053339, 0.15902695, 0.43983716, 0.20032067, 0.1098112 ,\n",
       "        0.06106959, 0.01756314, 0.30808927, 0.88380841],\n",
       "       [0.73605423, 0.39257625, 0.78962523, 0.17757473, 0.55644997,\n",
       "        0.36361116, 0.66838056, 0.34886953, 0.39373949, 0.85173358,\n",
       "        0.22073982, 0.00636729, 0.35967562, 0.81215786, 0.59497521,\n",
       "        0.48353921, 0.93572039, 0.75892962, 0.63439591],\n",
       "       [0.49385519, 0.2294165 , 0.88887062, 0.16019274, 0.62001941,\n",
       "        0.27785785, 0.84524102, 0.34485497, 0.2524906 , 0.6612387 ,\n",
       "        0.60756429, 0.09208521, 0.01625381, 0.42349724, 0.53237672,\n",
       "        0.69351691, 0.74194907, 0.01855955, 0.38725043],\n",
       "       [0.26704987, 0.2473972 , 0.41645281, 0.50648654, 0.41364807,\n",
       "        0.68034939, 0.8151914 , 0.06742538, 0.08521698, 0.65830416,\n",
       "        0.61127546, 0.83562986, 0.35532498, 0.22663322, 0.97206664,\n",
       "        0.62783967, 0.53296738, 0.74141647, 0.88275213]])"
      ]
     },
     "execution_count": 19,
     "metadata": {},
     "output_type": "execute_result"
    }
   ],
   "source": [
    "m_1\n"
   ]
  },
  {
   "cell_type": "code",
   "execution_count": 20,
   "metadata": {},
   "outputs": [],
   "source": [
    "# Ejemplo caída paracaídista:\n",
    "\n",
    "t = np.arange (0, 10.2,0.2) # t[s]\n",
    "V = ((68.1*0.51)/12.5)*(1-np.exp(-(12.5/68.1)*t))\n",
    "datos_CP = np.column_stack([t,V])\n",
    "np.savetxt('Datos_CP.txt',datos_CP, fmt = '%.2f')"
   ]
  },
  {
   "cell_type": "code",
   "execution_count": 21,
   "metadata": {},
   "outputs": [
    {
     "data": {
      "text/plain": [
       "array([[ 0.  ,  0.  ],\n",
       "       [ 0.2 ,  0.1 ],\n",
       "       [ 0.4 ,  0.2 ],\n",
       "       [ 0.6 ,  0.29],\n",
       "       [ 0.8 ,  0.38],\n",
       "       [ 1.  ,  0.47],\n",
       "       [ 1.2 ,  0.55],\n",
       "       [ 1.4 ,  0.63],\n",
       "       [ 1.6 ,  0.71],\n",
       "       [ 1.8 ,  0.78],\n",
       "       [ 2.  ,  0.85],\n",
       "       [ 2.2 ,  0.92],\n",
       "       [ 2.4 ,  0.99],\n",
       "       [ 2.6 ,  1.05],\n",
       "       [ 2.8 ,  1.12],\n",
       "       [ 3.  ,  1.18],\n",
       "       [ 3.2 ,  1.23],\n",
       "       [ 3.4 ,  1.29],\n",
       "       [ 3.6 ,  1.34],\n",
       "       [ 3.8 ,  1.4 ],\n",
       "       [ 4.  ,  1.45],\n",
       "       [ 4.2 ,  1.49],\n",
       "       [ 4.4 ,  1.54],\n",
       "       [ 4.6 ,  1.58],\n",
       "       [ 4.8 ,  1.63],\n",
       "       [ 5.  ,  1.67],\n",
       "       [ 5.2 ,  1.71],\n",
       "       [ 5.4 ,  1.75],\n",
       "       [ 5.6 ,  1.78],\n",
       "       [ 5.8 ,  1.82],\n",
       "       [ 6.  ,  1.85],\n",
       "       [ 6.2 ,  1.89],\n",
       "       [ 6.4 ,  1.92],\n",
       "       [ 6.6 ,  1.95],\n",
       "       [ 6.8 ,  1.98],\n",
       "       [ 7.  ,  2.01],\n",
       "       [ 7.2 ,  2.04],\n",
       "       [ 7.4 ,  2.06],\n",
       "       [ 7.6 ,  2.09],\n",
       "       [ 7.8 ,  2.11],\n",
       "       [ 8.  ,  2.14],\n",
       "       [ 8.2 ,  2.16],\n",
       "       [ 8.4 ,  2.18],\n",
       "       [ 8.6 ,  2.21],\n",
       "       [ 8.8 ,  2.23],\n",
       "       [ 9.  ,  2.25],\n",
       "       [ 9.2 ,  2.27],\n",
       "       [ 9.4 ,  2.28],\n",
       "       [ 9.6 ,  2.3 ],\n",
       "       [ 9.8 ,  2.32],\n",
       "       [10.  ,  2.34]])"
      ]
     },
     "execution_count": 21,
     "metadata": {},
     "output_type": "execute_result"
    }
   ],
   "source": [
    "# Cargar datos desde un archivo de texto:\n",
    "M_DCP =  np.genfromtxt('Datos_CP.txt')\n",
    "M_DCP"
   ]
  },
  {
   "cell_type": "code",
   "execution_count": 22,
   "metadata": {},
   "outputs": [
    {
     "data": {
      "text/plain": [
       "(51, 2)"
      ]
     },
     "execution_count": 22,
     "metadata": {},
     "output_type": "execute_result"
    }
   ],
   "source": [
    "M_DCP.shape"
   ]
  },
  {
   "cell_type": "code",
   "execution_count": 23,
   "metadata": {},
   "outputs": [],
   "source": [
    "# Cargas datos discriminando columnas como vectores:\n",
    "\n",
    "tiempo, velocidad = np.genfromtxt('Datos_CP.txt', unpack=True)"
   ]
  },
  {
   "cell_type": "code",
   "execution_count": 24,
   "metadata": {},
   "outputs": [
    {
     "data": {
      "text/plain": [
       "array([ 0. ,  0.2,  0.4,  0.6,  0.8,  1. ,  1.2,  1.4,  1.6,  1.8,  2. ,\n",
       "        2.2,  2.4,  2.6,  2.8,  3. ,  3.2,  3.4,  3.6,  3.8,  4. ,  4.2,\n",
       "        4.4,  4.6,  4.8,  5. ,  5.2,  5.4,  5.6,  5.8,  6. ,  6.2,  6.4,\n",
       "        6.6,  6.8,  7. ,  7.2,  7.4,  7.6,  7.8,  8. ,  8.2,  8.4,  8.6,\n",
       "        8.8,  9. ,  9.2,  9.4,  9.6,  9.8, 10. ])"
      ]
     },
     "execution_count": 24,
     "metadata": {},
     "output_type": "execute_result"
    }
   ],
   "source": [
    "tiempo"
   ]
  },
  {
   "cell_type": "code",
   "execution_count": 25,
   "metadata": {},
   "outputs": [
    {
     "data": {
      "text/plain": [
       "array([0.  , 0.1 , 0.2 , 0.29, 0.38, 0.47, 0.55, 0.63, 0.71, 0.78, 0.85,\n",
       "       0.92, 0.99, 1.05, 1.12, 1.18, 1.23, 1.29, 1.34, 1.4 , 1.45, 1.49,\n",
       "       1.54, 1.58, 1.63, 1.67, 1.71, 1.75, 1.78, 1.82, 1.85, 1.89, 1.92,\n",
       "       1.95, 1.98, 2.01, 2.04, 2.06, 2.09, 2.11, 2.14, 2.16, 2.18, 2.21,\n",
       "       2.23, 2.25, 2.27, 2.28, 2.3 , 2.32, 2.34])"
      ]
     },
     "execution_count": 25,
     "metadata": {},
     "output_type": "execute_result"
    }
   ],
   "source": [
    "velocidad"
   ]
  },
  {
   "cell_type": "code",
   "execution_count": null,
   "metadata": {},
   "outputs": [],
   "source": []
  }
 ],
 "metadata": {
  "kernelspec": {
   "display_name": "Python 3",
   "language": "python",
   "name": "python3"
  },
  "language_info": {
   "codemirror_mode": {
    "name": "ipython",
    "version": 3
   },
   "file_extension": ".py",
   "mimetype": "text/x-python",
   "name": "python",
   "nbconvert_exporter": "python",
   "pygments_lexer": "ipython3",
   "version": "3.7.4"
  }
 },
 "nbformat": 4,
 "nbformat_minor": 2
}
